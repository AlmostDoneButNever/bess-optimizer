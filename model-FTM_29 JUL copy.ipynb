{
 "cells": [
  {
   "cell_type": "code",
   "execution_count": 1,
   "metadata": {},
   "outputs": [],
   "source": [
    "from pyomo.environ import *\n",
    "import pandas as pd\n",
    "import matplotlib.pyplot as plt\n",
    "import plotly.graph_objects as go\n",
    "from dash import Dash, dcc, html\n",
    "import webbrowser\n",
    "from threading import Timer\n",
    "import dash_bootstrap_components as dbc\n",
    "import plotly.io as pio\n",
    "from dash.dependencies import Input, Output\n",
    "import json\n",
    "from scripts.result_export import generate_html\n",
    "from scripts.price_process import price_process\n"
   ]
  },
  {
   "cell_type": "markdown",
   "metadata": {},
   "source": [
    "# Read Data"
   ]
  },
  {
   "cell_type": "code",
   "execution_count": 2,
   "metadata": {},
   "outputs": [],
   "source": [
    "excel_mode = 2"
   ]
  },
  {
   "cell_type": "code",
   "execution_count": 3,
   "metadata": {},
   "outputs": [],
   "source": [
    "if excel_mode == 1:\n",
    "    # Read price data from Excel\n",
    "    price_data = pd.read_excel('data/price_data.xlsx', sheet_name= None, index_col=0)\n",
    "\n",
    "    data = price_data\n",
    "\n",
    "    # Iteratively merge all dataframes on 'Timestamp'\n",
    "    price_df = pd.DataFrame(index =  data[list(data.keys())[0]].index)\n",
    "\n",
    "    for key in data:\n",
    "        price_df = pd.concat([price_df, data[key]], axis = 1)\n",
    "\n",
    "    model_time_period = 24    # periods\n",
    "    dt = 1\n",
    "\n"
   ]
  },
  {
   "cell_type": "code",
   "execution_count": 4,
   "metadata": {},
   "outputs": [
    {
     "name": "stdout",
     "output_type": "stream",
     "text": [
      "Found 12 CSV files in data/prices/energy/\n",
      "Found 12 CSV files in data/prices/regulation/\n",
      "Found 12 CSV files in data/prices/reserve/\n"
     ]
    }
   ],
   "source": [
    "if excel_mode != 1:\n",
    "    dir_path = 'data/prices/'\n",
    "    prim_category = 'PRIRESA'\n",
    "    cons_category = 'CONRESA'\n",
    "\n",
    "    price_df = price_process(dir_path, prim_category, cons_category)\n",
    "\n",
    "    model_time_period = 48    # periods\n",
    "    dt = 0.5\n"
   ]
  },
  {
   "cell_type": "code",
   "execution_count": 5,
   "metadata": {},
   "outputs": [],
   "source": [
    "# Parameters\n",
    "schedule_data = pd.read_excel('data/schedule_data_s1.xlsx', sheet_name= None, index_col=0)\n",
    "\n",
    "λ_min = schedule_data['soc_limit']['min']\n",
    "λ_max = schedule_data['soc_limit']['max']\n",
    "theta = schedule_data['availability']\n",
    "\n",
    "z = {}\n",
    "s = {}\n",
    "z['arb'], z['reg'], z['pres'], z['cres'], z['opp'] = schedule_data['basis'].value.values\n",
    "s['reg'] = schedule_data['basis'].loc['regulation', 'sym']\n"
   ]
  },
  {
   "cell_type": "code",
   "execution_count": 6,
   "metadata": {},
   "outputs": [],
   "source": [
    "filename = \"test\"\n",
    "\n",
    "z['opp'] = 0\n",
    "# s['reg'] = 1\n",
    "\n",
    "cap_power = 1  # Example value\n",
    "cap_energy = 4  # Example value\n",
    "\n",
    "Seff = 0.9995\n",
    "Ceff = 0.9\n",
    "Deff = 0.9\n",
    "\n",
    "\n",
    "λ_0 = 0.5\n",
    "initial_soc = λ_0 * cap_energy\n",
    "\n",
    "kappa = 1     # regulation performance score\n",
    "beta = 0.15       # activated portion for reserve\n",
    "\n",
    "\n",
    "cycle_life = 3650\n",
    "calendar_life = 10\n",
    "total_time_period = len(price_df)\n",
    "num_slices = int(total_time_period // model_time_period)     # number of time slices to model\n",
    "\n",
    "η = cycle_life/calendar_life/365                 # number of cycle per time slice"
   ]
  },
  {
   "cell_type": "markdown",
   "metadata": {},
   "source": [
    "# Model"
   ]
  },
  {
   "cell_type": "code",
   "execution_count": 7,
   "metadata": {},
   "outputs": [],
   "source": [
    "def optimize_revenue(initial_soc, price_vector, current_period, first_period, last_period):\n",
    "\n",
    "    # Define the model\n",
    "    model = ConcreteModel()\n",
    "\n",
    "    # Price Data for the day\n",
    "    total_time_period = len(price_vector)\n",
    "\n",
    "    T = range(1, total_time_period + 1)\n",
    "    SOC_T = range(0, total_time_period + 1)\n",
    "\n",
    "    p_arb = {t: price_vector['arb_energy_price'].values[t-1] for t in T}\n",
    "    p_pres = {t: price_vector['pres_capacity_price'].values[t-1] for t in T}\n",
    "    p_cres = {t: price_vector['cres_capacity_price'].values[t-1] for t in T}\n",
    "\n",
    "    # p_reg = {t: price_vector['reg_capacity_price'].values[t-1] for t in T}\n",
    "    p_reg_down = {t: price_vector['reg_down_price'].values[t-1] for t in T}\n",
    "    p_reg_up = {t: price_vector['reg_up_price'].values[t-1] for t in T}\n",
    "\n",
    "    start_soc = λ_0 * cap_energy\n",
    "\n",
    "    # Variables\n",
    "    model.SOC = Var(SOC_T, within=NonNegativeReals, bounds = (0, cap_energy))\n",
    " \n",
    "    model.C_arb = Var(T, within=NonNegativeReals, bounds = (0, cap_power))\n",
    "    model.D_arb = Var(T, within=NonNegativeReals, bounds = (0, cap_power))\n",
    "    model.C_reg = Var(T, within=NonNegativeReals, bounds = (0, cap_power * 2))\n",
    "    model.D_reg = Var(T, within=NonNegativeReals, bounds = (0, cap_power * 2))\n",
    "    model.D_pres = Var(T, within=NonNegativeReals, bounds = (0, cap_power * 2))\n",
    "    model.D_cres = Var(T, within=NonNegativeReals, bounds = (0, cap_power * 2))\n",
    "\n",
    "    model.y_ch = Var(T, within=Binary)\n",
    "    model.y_minus = Var(T, within=Binary)\n",
    "\n",
    "    model.R_arb = Var(T, within=Reals)\n",
    "    model.R_reg = Var(T, within=Reals)\n",
    "    model.R_pres = Var(T, within=Reals)\n",
    "    model.R_cres = Var(T, within=Reals)\n",
    "\n",
    "    # Objective function\n",
    "    model.obj = Objective(\n",
    "        expr= sum(model.R_arb[t] + model.R_reg[t] + model.R_pres[t] + model.R_cres[t] for t in T),        \n",
    "        sense=maximize\n",
    "    )\n",
    "\n",
    "    def revenue_arbitrage_rule(model, t):\n",
    "        return model.R_arb[t] == p_arb[t]  * (model.D_arb[t] - model.C_arb[t]) * dt\n",
    "    model.revenue_arbitrage = Constraint(T, rule=revenue_arbitrage_rule)\n",
    "\n",
    "    def revenue_primary_reserve_rule(model, t):\n",
    "        return model.R_pres[t] == p_pres[t]  * model.D_pres[t] * dt\n",
    "    model.revenue_preserve = Constraint(T, rule=revenue_primary_reserve_rule)\n",
    "\n",
    "    def revenue_contingency_reserve_rule(model, t):\n",
    "        return model.R_cres[t] == p_cres[t]  * model.D_cres[t] * dt\n",
    "    model.revenue_creserve = Constraint(T, rule=revenue_contingency_reserve_rule)\n",
    "\n",
    "    # Arbitrage Constraints\n",
    "\n",
    "    # def c_limit_constraint(model, t):\n",
    "    #     return model.C_arb[t] <= cap_power #* model.y_ch[t]\n",
    "    # model.C_limit = Constraint(T, rule=c_limit_constraint)\n",
    "\n",
    "    # def d_limit_constraint(model, t):\n",
    "    #     return model.D_arb[t]  <= cap_power #* (1 - model.y_ch[t])\n",
    "    # model.D_limit = Constraint(T, rule=d_limit_constraint)\n",
    "\n",
    "    def soc_constraints(model, t):\n",
    "        if t == 0:\n",
    "            return model.SOC[t] == initial_soc\n",
    "        else:\n",
    "            # return model.SOC[t] == model.SOC[t-1] * Seff + ((model.C_arb[t] + 0.15 * model.C_reg[t]) * Ceff - (model.D_arb[t] + 0.15 * model.D_reg[t])/Deff) * dt\n",
    "            return model.SOC[t] == model.SOC[t-1] * Seff + (model.C_arb[t]  * Ceff - model.D_arb[t]/Deff) * dt\n",
    "    model.SOC_constraints = Constraint(SOC_T, rule=soc_constraints)\n",
    "\n",
    "    def soc_lower_limit_constraint(model, t):\n",
    "        return model.SOC[t] >= cap_energy * λ_min[t]\n",
    "    model.SOC_lower_limit = Constraint(T, rule=soc_lower_limit_constraint)\n",
    "\n",
    "    def soc_upper_limit_constraint(model, t):\n",
    "        return model.SOC[t] <= cap_energy * λ_max[t]\n",
    "    model.SOC_upper_limit = Constraint(T, rule=soc_upper_limit_constraint)\n",
    "\n",
    "    if current_period == last_period:\n",
    "        def soc_final_state_constraint(model):\n",
    "            end_t = SOC_T[-1]\n",
    "            return model.SOC[end_t] == start_soc \n",
    "        model.SOC_final = Constraint(rule=soc_final_state_constraint)\n",
    "\n",
    "\n",
    "    def soc_reg_down_rule(model, t):\n",
    "        return model.SOC[t] + beta * model.C_reg[t] * Ceff * dt <= cap_energy\n",
    "    model.soc_reg_down = Constraint(T, rule=soc_reg_down_rule)\n",
    "\n",
    "    def soc_reg_up_rule(model, t):\n",
    "        return model.SOC[t] >= (beta * model.D_reg[t] + model.D_pres[t] + model.D_cres[t])/Deff * dt\n",
    "    model.soc_reg_up = Constraint(T, rule=soc_reg_up_rule)\n",
    "\n",
    "    if s['reg'] == 1:\n",
    "        def reg_constraint_rule(model, t):\n",
    "            return model.C_reg[t] == model.D_reg[t]\n",
    "        model.reg_up_down = Constraint(T, rule=reg_constraint_rule)\n",
    "\n",
    "        def revenue_regulation_rule(model, t):\n",
    "            return model.R_reg[t] == kappa * (p_reg_up[t] * model.D_reg[t]) * dt\n",
    "        model.revenue_regulation = Constraint(T, rule=revenue_regulation_rule)\n",
    "\n",
    "    else:\n",
    "\n",
    "        def revenue_regulation_rule(model, t):\n",
    "            return model.R_reg[t] == kappa * (p_reg_down[t] * model.C_reg[t] + p_reg_up[t] * model.D_reg[t]) * dt\n",
    "        model.revenue_regulation = Constraint(T, rule=revenue_regulation_rule)\n",
    "\n",
    "\n",
    "    if z['opp'] == 0:\n",
    "        def total_charge_rule(model, t):\n",
    "            return model.C_reg[t]  + model.C_arb[t]  <= cap_power * model.y_minus[t]\n",
    "        model.total_charge = Constraint(T, rule=total_charge_rule)\n",
    "\n",
    "        def total_discharge_rule(model, t):\n",
    "            return model.D_reg[t] + model.D_arb[t] +  model.D_pres[t] +  model.D_cres[t] <= cap_power * (1 - model.y_minus[t])\n",
    "        model.total_discharge = Constraint(T, rule=total_discharge_rule)\n",
    "\n",
    "    elif z['opp'] == 1: \n",
    "\n",
    "        def total_charge_rule(model, t):\n",
    "            return model.C_reg[t] - (model.D_arb[t] - model.C_arb[t])  <= cap_power \n",
    "        model.total_charge = Constraint(T, rule=total_charge_rule)\n",
    "\n",
    "        def total_discharge_rule(model, t):\n",
    "            return model.D_reg[t] + (model.D_arb[t] - model.C_arb[t]) +  model.D_pres[t] +  model.D_cres[t] <= cap_power \n",
    "        model.total_discharge = Constraint(T, rule=total_discharge_rule)\n",
    "\n",
    "    else:\n",
    "\n",
    "        def total_charge_rule(model, t):\n",
    "            return model.C_reg[t] + model.C_arb[t] - model.D_arb[t] <= cap_power * model.y_ch[t]\n",
    "        model.total_charge = Constraint(T, rule=total_charge_rule)\n",
    "\n",
    "        def total_discharge_rule(model, t):\n",
    "            return model.D_reg[t]  + model.D_arb[t] +  model.D_pres[t] +  model.D_cres[t] - model.C_arb[t] <= cap_power * (1 - model.y_ch[t])\n",
    "        model.total_discharge = Constraint(T, rule=total_discharge_rule)\n",
    "\n",
    "        # def total_charge_rule2(model, t):\n",
    "        #     return model.C_reg[t] + model.C_arb[t]  <= cap_power \n",
    "        # model.total_charge2 = Constraint(T, rule=total_charge_rule2)\n",
    "\n",
    "        # def total_discharge_rule2(model, t):\n",
    "        #     return model.D_reg[t] + model.D_arb[t]  +  model.D_pres[t] +  model.D_cres[t] <= cap_power \n",
    "        # model.total_discharge2 = Constraint(T, rule=total_discharge_rule2)\n",
    "\n",
    "\n",
    "    # Service availability\n",
    "\n",
    "    def arbitrage_availability_rule(model, t):\n",
    "        return model.C_arb[t] + model.D_arb[t] <= cap_power * z['arb'] * theta['arb'].loc[t] * 2\n",
    "    model.arbitrage_availability = Constraint(T, rule=arbitrage_availability_rule)\n",
    "\n",
    "    def regulation_availability_rule(model, t):\n",
    "        return model.C_reg[t] + model.D_reg[t] <= cap_power * z['reg'] * theta['reg'].loc[t] * 2\n",
    "    model.regulation_availability = Constraint(T, rule=regulation_availability_rule)\n",
    "\n",
    "    def preserve_availability_rule(model, t):\n",
    "        return model.D_pres[t] <= cap_power * z['pres'] * theta['pres'].loc[t] * 2\n",
    "    model.preserve_availability = Constraint(T, rule=preserve_availability_rule)\n",
    "\n",
    "    def creserve_availability_rule(model, t):\n",
    "        return model.D_cres[t] <= cap_power * z['cres'] * theta['cres'].loc[t] * 2\n",
    "    model.creserve_availability = Constraint(T, rule=creserve_availability_rule)\n",
    "\n",
    "\n",
    "    # Cycle limits\n",
    "\n",
    "    # def energy_cap_C_constraint(model):\n",
    "    #     return sum(model.C_arb[t] +  model.C_reg[t]*beta for t in T)*dt <= η * cap_energy\n",
    "    #     # return sum(model.C_arb[t] for t in T)*dt <= η * cap_energy\n",
    "    # model.energy_cap_C = Constraint(rule=energy_cap_C_constraint)\n",
    "\n",
    "    def energy_cap_D_constraint(model):\n",
    "        return sum(model.D_arb[t] + model.D_reg[t]*beta for t in T)*dt <= η * cap_energy\n",
    "        # return sum(model.D_arb[t] for t in T)*dt <= η * cap_energy\n",
    "    model.energy_cap_D = Constraint(rule=energy_cap_D_constraint)\n",
    "\n",
    "\n",
    "    # Solve the model\n",
    "    solver = SolverFactory('glpk')\n",
    "    solver.options['mipgap'] = 0.0000001  \n",
    "\n",
    "    solver.solve(model, tee=True)\n",
    "\n",
    "    # Extract results for charging, discharging, and SOC\n",
    "    charging_schedule = [model.C_arb[t].value for t in T]  # Charging as negative\n",
    "    discharging_schedule = [model.D_arb[t].value for t in T]  # Discharging as positive\n",
    "    reg_down_schedule = [model.C_reg[t].value for t in T]  # Charging as negative\n",
    "    reg_up_schedule = [model.D_reg[t].value for t in T]  # Discharging as positive\n",
    "    pres_schedule = [model.D_pres[t].value for t in T]  # Charging as negative\n",
    "    cres_schedule = [model.D_cres[t].value for t in T]  # Discharging as positive\n",
    "\n",
    "    soc_schedule = [model.SOC[t].value for t in SOC_T]  # State of Charge\n",
    "\n",
    "    rev_arbitrage =  sum(model.R_arb[t] for t in T)() \n",
    "    rev_regulation = sum(model.R_reg[t] for t in T)() \n",
    "    rev_prim_reserve = sum(model.R_pres[t] for t in T)() \n",
    "    rev_cont_reserve = sum(model.R_cres[t] for t in T)() \n",
    "\n",
    "    # Return the results and final SOC\n",
    "    return model.obj(), [charging_schedule, discharging_schedule, soc_schedule, reg_down_schedule, reg_up_schedule, pres_schedule, cres_schedule], [rev_arbitrage, rev_regulation, rev_prim_reserve, rev_cont_reserve]"
   ]
  },
  {
   "cell_type": "markdown",
   "metadata": {},
   "source": [
    "# Run"
   ]
  },
  {
   "cell_type": "code",
   "execution_count": 8,
   "metadata": {},
   "outputs": [
    {
     "name": "stdout",
     "output_type": "stream",
     "text": [
      "watch 0\n",
      "GLPSOL: GLPK LP/MIP Solver, v4.65\n",
      "Parameter(s) specified in the command line:\n",
      " --mipgap 1e-07 --write C:\\Users\\angelmah\\AppData\\Local\\Temp\\tmp3ppaic0x.glpk.raw\n",
      " --wglp C:\\Users\\angelmah\\AppData\\Local\\Temp\\tmplhjsi6or.glpk.glp --cpxlp\n",
      " C:\\Users\\angelmah\\AppData\\Local\\Temp\\tmp4irop21s.pyomo.lp\n",
      "Reading problem data from 'C:\\Users\\angelmah\\AppData\\Local\\Temp\\tmp4irop21s.pyomo.lp'...\n",
      "C:\\Users\\angelmah\\AppData\\Local\\Temp\\tmp4irop21s.pyomo.lp:4770: warning: lower bound of variable 'x965' redefined\n",
      "C:\\Users\\angelmah\\AppData\\Local\\Temp\\tmp4irop21s.pyomo.lp:4770: warning: upper bound of variable 'x965' redefined\n",
      "722 rows, 577 columns, 1825 non-zeros\n",
      "48 integer variables, all of which are binary\n",
      "4818 lines were read\n",
      "Writing problem data to 'C:\\Users\\angelmah\\AppData\\Local\\Temp\\tmplhjsi6or.glpk.glp'...\n",
      "4330 lines were written\n",
      "GLPK Integer Optimizer, v4.65\n",
      "722 rows, 577 columns, 1825 non-zeros\n",
      "48 integer variables, all of which are binary\n",
      "Preprocessing...\n",
      "215 rows, 288 columns, 689 non-zeros\n",
      "48 integer variables, all of which are binary\n",
      "Scaling...\n",
      " A: min|aij| =  6.750e-02  max|aij| =  1.000e+00  ratio =  1.481e+01\n",
      "GM: min|aij| =  5.999e-01  max|aij| =  1.667e+00  ratio =  2.779e+00\n",
      "EQ: min|aij| =  3.632e-01  max|aij| =  1.000e+00  ratio =  2.753e+00\n",
      "2N: min|aij| =  2.500e-01  max|aij| =  1.000e+00  ratio =  4.000e+00\n",
      "Constructing initial basis...\n",
      "Size of triangular part is 215\n",
      "Solving LP relaxation...\n",
      "GLPK Simplex Optimizer, v4.65\n",
      "215 rows, 288 columns, 689 non-zeros\n",
      "      0: obj =   1.452472997e+02 inf =   1.980e+00 (24)\n",
      "     24: obj =   1.165890420e+02 inf =   5.001e-16 (0)\n",
      "*   223: obj =   5.893127720e+02 inf =   7.499e-15 (0)\n",
      "OPTIMAL LP SOLUTION FOUND\n",
      "Integer optimization begins...\n",
      "Long-step dual simplex will be used\n",
      "+   223: mip =     not found yet <=              +inf        (1; 0)\n",
      "+   275: >>>>>   5.864845850e+02 <=   5.884929694e+02   0.3% (27; 0)\n",
      "+   340: >>>>>   5.870016902e+02 <=   5.877219280e+02   0.1% (32; 3)\n",
      "+   364: >>>>>   5.874318731e+02 <=   5.876545844e+02 < 0.1% (24; 14)\n",
      "+   369: >>>>>   5.876482961e+02 <=   5.876482961e+02 < 0.1% (14; 25)\n",
      "+   369: mip =   5.876482961e+02 <=     tree is empty   0.0% (0; 75)\n",
      "INTEGER OPTIMAL SOLUTION FOUND\n",
      "Time used:   0.0 secs\n",
      "Memory used: 0.8 Mb (803548 bytes)\n",
      "Writing MIP solution to 'C:\\Users\\angelmah\\AppData\\Local\\Temp\\tmp3ppaic0x.glpk.raw'...\n",
      "1308 lines were written\n",
      "587.6482961250658\n"
     ]
    }
   ],
   "source": [
    "# Lists to store results\n",
    "total_revenue = 0\n",
    "arbitrage = 0\n",
    "regulation = 0\n",
    "preserve = 0\n",
    "creserve = 0\n",
    "\n",
    "all_charging_schedules = []\n",
    "all_discharging_schedules = []\n",
    "all_reg_down_schedules = []\n",
    "all_reg_up_schedules = []\n",
    "all_pres_schedules = []\n",
    "all_cres_schedules = []\n",
    "all_soc_schedules = []\n",
    "\n",
    "first_p = 0\n",
    "last_p = num_slices #- 1\n",
    "\n",
    "# Run the optimization for each time period\n",
    "for p in range(1):\n",
    "    print(\"watch\", p)\n",
    "    periodic_price = price_df[p*model_time_period:(p+1)*model_time_period]\n",
    "    revenue, [charging_schedule, discharging_schedule, soc_schedule, reg_down_schedule, reg_up_schedule, pres_schedule, cres_schedule], [rev_arbitrage, rev_regulation, rev_prim_reserve, rev_cont_reserve] = optimize_revenue(initial_soc, periodic_price, p, first_p, last_p)\n",
    "    final_soc = soc_schedule[-1]\n",
    "    \n",
    "    # Store the results\n",
    "    total_revenue += revenue\n",
    "    arbitrage += rev_arbitrage\n",
    "    regulation += rev_regulation\n",
    "    preserve += rev_prim_reserve\n",
    "    creserve += rev_cont_reserve\n",
    "\n",
    "    all_charging_schedules.extend(charging_schedule)\n",
    "    all_discharging_schedules.extend(discharging_schedule)\n",
    "    all_reg_down_schedules.extend(reg_down_schedule)\n",
    "    all_reg_up_schedules.extend(reg_up_schedule)\n",
    "    all_pres_schedules.extend(pres_schedule)\n",
    "    all_cres_schedules.extend(cres_schedule)\n",
    "    all_soc_schedules.extend(soc_schedule[:-1])\n",
    "\n",
    "    # Update the initial SOC for the next day\n",
    "    initial_soc = final_soc\n",
    "\n",
    "print(total_revenue)"
   ]
  },
  {
   "cell_type": "code",
   "execution_count": 9,
   "metadata": {},
   "outputs": [
    {
     "data": {
      "text/html": [
       "<div>\n",
       "<style scoped>\n",
       "    .dataframe tbody tr th:only-of-type {\n",
       "        vertical-align: middle;\n",
       "    }\n",
       "\n",
       "    .dataframe tbody tr th {\n",
       "        vertical-align: top;\n",
       "    }\n",
       "\n",
       "    .dataframe thead th {\n",
       "        text-align: right;\n",
       "    }\n",
       "</style>\n",
       "<table border=\"1\" class=\"dataframe\">\n",
       "  <thead>\n",
       "    <tr style=\"text-align: right;\">\n",
       "      <th></th>\n",
       "      <th>revenue</th>\n",
       "    </tr>\n",
       "  </thead>\n",
       "  <tbody>\n",
       "    <tr>\n",
       "      <th>Arbitrage</th>\n",
       "      <td>350.555762</td>\n",
       "    </tr>\n",
       "    <tr>\n",
       "      <th>Regulation</th>\n",
       "      <td>255.352791</td>\n",
       "    </tr>\n",
       "    <tr>\n",
       "      <th>Primary Reserve</th>\n",
       "      <td>0.000000</td>\n",
       "    </tr>\n",
       "    <tr>\n",
       "      <th>Contingency Reserve</th>\n",
       "      <td>0.000000</td>\n",
       "    </tr>\n",
       "  </tbody>\n",
       "</table>\n",
       "</div>"
      ],
      "text/plain": [
       "                        revenue\n",
       "Arbitrage            350.555762\n",
       "Regulation           255.352791\n",
       "Primary Reserve        0.000000\n",
       "Contingency Reserve    0.000000"
      ]
     },
     "execution_count": 9,
     "metadata": {},
     "output_type": "execute_result"
    }
   ],
   "source": [
    "revenue_data = pd.Series()\n",
    "revenue_data.loc['Arbitrage'] = arbitrage/num_slices * 365\n",
    "revenue_data.loc['Regulation'] = regulation/num_slices * 365\n",
    "revenue_data.loc['Primary Reserve'] = preserve/num_slices * 365\n",
    "revenue_data.loc['Contingency Reserve'] = creserve/num_slices * 365\n",
    "\n",
    "pd.DataFrame(revenue_data, columns = ['revenue'])"
   ]
  },
  {
   "cell_type": "code",
   "execution_count": 10,
   "metadata": {},
   "outputs": [
    {
     "data": {
      "application/vnd.plotly.v1+json": {
       "config": {
        "plotlyServerURL": "https://plot.ly"
       },
       "data": [
        {
         "hole": 0.3,
         "labels": [
          "Arbitrage",
          "Regulation"
         ],
         "type": "pie",
         "values": [
          350.5557624527329,
          255.35279146152988
         ]
        }
       ],
       "layout": {
        "annotations": [
         {
          "font": {
           "size": 20
          },
          "showarrow": false,
          "text": " ",
          "x": 0.5,
          "y": 0.5
         }
        ],
        "template": {
         "data": {
          "bar": [
           {
            "error_x": {
             "color": "#2a3f5f"
            },
            "error_y": {
             "color": "#2a3f5f"
            },
            "marker": {
             "line": {
              "color": "#E5ECF6",
              "width": 0.5
             },
             "pattern": {
              "fillmode": "overlay",
              "size": 10,
              "solidity": 0.2
             }
            },
            "type": "bar"
           }
          ],
          "barpolar": [
           {
            "marker": {
             "line": {
              "color": "#E5ECF6",
              "width": 0.5
             },
             "pattern": {
              "fillmode": "overlay",
              "size": 10,
              "solidity": 0.2
             }
            },
            "type": "barpolar"
           }
          ],
          "carpet": [
           {
            "aaxis": {
             "endlinecolor": "#2a3f5f",
             "gridcolor": "white",
             "linecolor": "white",
             "minorgridcolor": "white",
             "startlinecolor": "#2a3f5f"
            },
            "baxis": {
             "endlinecolor": "#2a3f5f",
             "gridcolor": "white",
             "linecolor": "white",
             "minorgridcolor": "white",
             "startlinecolor": "#2a3f5f"
            },
            "type": "carpet"
           }
          ],
          "choropleth": [
           {
            "colorbar": {
             "outlinewidth": 0,
             "ticks": ""
            },
            "type": "choropleth"
           }
          ],
          "contour": [
           {
            "colorbar": {
             "outlinewidth": 0,
             "ticks": ""
            },
            "colorscale": [
             [
              0,
              "#0d0887"
             ],
             [
              0.1111111111111111,
              "#46039f"
             ],
             [
              0.2222222222222222,
              "#7201a8"
             ],
             [
              0.3333333333333333,
              "#9c179e"
             ],
             [
              0.4444444444444444,
              "#bd3786"
             ],
             [
              0.5555555555555556,
              "#d8576b"
             ],
             [
              0.6666666666666666,
              "#ed7953"
             ],
             [
              0.7777777777777778,
              "#fb9f3a"
             ],
             [
              0.8888888888888888,
              "#fdca26"
             ],
             [
              1,
              "#f0f921"
             ]
            ],
            "type": "contour"
           }
          ],
          "contourcarpet": [
           {
            "colorbar": {
             "outlinewidth": 0,
             "ticks": ""
            },
            "type": "contourcarpet"
           }
          ],
          "heatmap": [
           {
            "colorbar": {
             "outlinewidth": 0,
             "ticks": ""
            },
            "colorscale": [
             [
              0,
              "#0d0887"
             ],
             [
              0.1111111111111111,
              "#46039f"
             ],
             [
              0.2222222222222222,
              "#7201a8"
             ],
             [
              0.3333333333333333,
              "#9c179e"
             ],
             [
              0.4444444444444444,
              "#bd3786"
             ],
             [
              0.5555555555555556,
              "#d8576b"
             ],
             [
              0.6666666666666666,
              "#ed7953"
             ],
             [
              0.7777777777777778,
              "#fb9f3a"
             ],
             [
              0.8888888888888888,
              "#fdca26"
             ],
             [
              1,
              "#f0f921"
             ]
            ],
            "type": "heatmap"
           }
          ],
          "heatmapgl": [
           {
            "colorbar": {
             "outlinewidth": 0,
             "ticks": ""
            },
            "colorscale": [
             [
              0,
              "#0d0887"
             ],
             [
              0.1111111111111111,
              "#46039f"
             ],
             [
              0.2222222222222222,
              "#7201a8"
             ],
             [
              0.3333333333333333,
              "#9c179e"
             ],
             [
              0.4444444444444444,
              "#bd3786"
             ],
             [
              0.5555555555555556,
              "#d8576b"
             ],
             [
              0.6666666666666666,
              "#ed7953"
             ],
             [
              0.7777777777777778,
              "#fb9f3a"
             ],
             [
              0.8888888888888888,
              "#fdca26"
             ],
             [
              1,
              "#f0f921"
             ]
            ],
            "type": "heatmapgl"
           }
          ],
          "histogram": [
           {
            "marker": {
             "pattern": {
              "fillmode": "overlay",
              "size": 10,
              "solidity": 0.2
             }
            },
            "type": "histogram"
           }
          ],
          "histogram2d": [
           {
            "colorbar": {
             "outlinewidth": 0,
             "ticks": ""
            },
            "colorscale": [
             [
              0,
              "#0d0887"
             ],
             [
              0.1111111111111111,
              "#46039f"
             ],
             [
              0.2222222222222222,
              "#7201a8"
             ],
             [
              0.3333333333333333,
              "#9c179e"
             ],
             [
              0.4444444444444444,
              "#bd3786"
             ],
             [
              0.5555555555555556,
              "#d8576b"
             ],
             [
              0.6666666666666666,
              "#ed7953"
             ],
             [
              0.7777777777777778,
              "#fb9f3a"
             ],
             [
              0.8888888888888888,
              "#fdca26"
             ],
             [
              1,
              "#f0f921"
             ]
            ],
            "type": "histogram2d"
           }
          ],
          "histogram2dcontour": [
           {
            "colorbar": {
             "outlinewidth": 0,
             "ticks": ""
            },
            "colorscale": [
             [
              0,
              "#0d0887"
             ],
             [
              0.1111111111111111,
              "#46039f"
             ],
             [
              0.2222222222222222,
              "#7201a8"
             ],
             [
              0.3333333333333333,
              "#9c179e"
             ],
             [
              0.4444444444444444,
              "#bd3786"
             ],
             [
              0.5555555555555556,
              "#d8576b"
             ],
             [
              0.6666666666666666,
              "#ed7953"
             ],
             [
              0.7777777777777778,
              "#fb9f3a"
             ],
             [
              0.8888888888888888,
              "#fdca26"
             ],
             [
              1,
              "#f0f921"
             ]
            ],
            "type": "histogram2dcontour"
           }
          ],
          "mesh3d": [
           {
            "colorbar": {
             "outlinewidth": 0,
             "ticks": ""
            },
            "type": "mesh3d"
           }
          ],
          "parcoords": [
           {
            "line": {
             "colorbar": {
              "outlinewidth": 0,
              "ticks": ""
             }
            },
            "type": "parcoords"
           }
          ],
          "pie": [
           {
            "automargin": true,
            "type": "pie"
           }
          ],
          "scatter": [
           {
            "fillpattern": {
             "fillmode": "overlay",
             "size": 10,
             "solidity": 0.2
            },
            "type": "scatter"
           }
          ],
          "scatter3d": [
           {
            "line": {
             "colorbar": {
              "outlinewidth": 0,
              "ticks": ""
             }
            },
            "marker": {
             "colorbar": {
              "outlinewidth": 0,
              "ticks": ""
             }
            },
            "type": "scatter3d"
           }
          ],
          "scattercarpet": [
           {
            "marker": {
             "colorbar": {
              "outlinewidth": 0,
              "ticks": ""
             }
            },
            "type": "scattercarpet"
           }
          ],
          "scattergeo": [
           {
            "marker": {
             "colorbar": {
              "outlinewidth": 0,
              "ticks": ""
             }
            },
            "type": "scattergeo"
           }
          ],
          "scattergl": [
           {
            "marker": {
             "colorbar": {
              "outlinewidth": 0,
              "ticks": ""
             }
            },
            "type": "scattergl"
           }
          ],
          "scattermapbox": [
           {
            "marker": {
             "colorbar": {
              "outlinewidth": 0,
              "ticks": ""
             }
            },
            "type": "scattermapbox"
           }
          ],
          "scatterpolar": [
           {
            "marker": {
             "colorbar": {
              "outlinewidth": 0,
              "ticks": ""
             }
            },
            "type": "scatterpolar"
           }
          ],
          "scatterpolargl": [
           {
            "marker": {
             "colorbar": {
              "outlinewidth": 0,
              "ticks": ""
             }
            },
            "type": "scatterpolargl"
           }
          ],
          "scatterternary": [
           {
            "marker": {
             "colorbar": {
              "outlinewidth": 0,
              "ticks": ""
             }
            },
            "type": "scatterternary"
           }
          ],
          "surface": [
           {
            "colorbar": {
             "outlinewidth": 0,
             "ticks": ""
            },
            "colorscale": [
             [
              0,
              "#0d0887"
             ],
             [
              0.1111111111111111,
              "#46039f"
             ],
             [
              0.2222222222222222,
              "#7201a8"
             ],
             [
              0.3333333333333333,
              "#9c179e"
             ],
             [
              0.4444444444444444,
              "#bd3786"
             ],
             [
              0.5555555555555556,
              "#d8576b"
             ],
             [
              0.6666666666666666,
              "#ed7953"
             ],
             [
              0.7777777777777778,
              "#fb9f3a"
             ],
             [
              0.8888888888888888,
              "#fdca26"
             ],
             [
              1,
              "#f0f921"
             ]
            ],
            "type": "surface"
           }
          ],
          "table": [
           {
            "cells": {
             "fill": {
              "color": "#EBF0F8"
             },
             "line": {
              "color": "white"
             }
            },
            "header": {
             "fill": {
              "color": "#C8D4E3"
             },
             "line": {
              "color": "white"
             }
            },
            "type": "table"
           }
          ]
         },
         "layout": {
          "annotationdefaults": {
           "arrowcolor": "#2a3f5f",
           "arrowhead": 0,
           "arrowwidth": 1
          },
          "autotypenumbers": "strict",
          "coloraxis": {
           "colorbar": {
            "outlinewidth": 0,
            "ticks": ""
           }
          },
          "colorscale": {
           "diverging": [
            [
             0,
             "#8e0152"
            ],
            [
             0.1,
             "#c51b7d"
            ],
            [
             0.2,
             "#de77ae"
            ],
            [
             0.3,
             "#f1b6da"
            ],
            [
             0.4,
             "#fde0ef"
            ],
            [
             0.5,
             "#f7f7f7"
            ],
            [
             0.6,
             "#e6f5d0"
            ],
            [
             0.7,
             "#b8e186"
            ],
            [
             0.8,
             "#7fbc41"
            ],
            [
             0.9,
             "#4d9221"
            ],
            [
             1,
             "#276419"
            ]
           ],
           "sequential": [
            [
             0,
             "#0d0887"
            ],
            [
             0.1111111111111111,
             "#46039f"
            ],
            [
             0.2222222222222222,
             "#7201a8"
            ],
            [
             0.3333333333333333,
             "#9c179e"
            ],
            [
             0.4444444444444444,
             "#bd3786"
            ],
            [
             0.5555555555555556,
             "#d8576b"
            ],
            [
             0.6666666666666666,
             "#ed7953"
            ],
            [
             0.7777777777777778,
             "#fb9f3a"
            ],
            [
             0.8888888888888888,
             "#fdca26"
            ],
            [
             1,
             "#f0f921"
            ]
           ],
           "sequentialminus": [
            [
             0,
             "#0d0887"
            ],
            [
             0.1111111111111111,
             "#46039f"
            ],
            [
             0.2222222222222222,
             "#7201a8"
            ],
            [
             0.3333333333333333,
             "#9c179e"
            ],
            [
             0.4444444444444444,
             "#bd3786"
            ],
            [
             0.5555555555555556,
             "#d8576b"
            ],
            [
             0.6666666666666666,
             "#ed7953"
            ],
            [
             0.7777777777777778,
             "#fb9f3a"
            ],
            [
             0.8888888888888888,
             "#fdca26"
            ],
            [
             1,
             "#f0f921"
            ]
           ]
          },
          "colorway": [
           "#636efa",
           "#EF553B",
           "#00cc96",
           "#ab63fa",
           "#FFA15A",
           "#19d3f3",
           "#FF6692",
           "#B6E880",
           "#FF97FF",
           "#FECB52"
          ],
          "font": {
           "color": "#2a3f5f"
          },
          "geo": {
           "bgcolor": "white",
           "lakecolor": "white",
           "landcolor": "#E5ECF6",
           "showlakes": true,
           "showland": true,
           "subunitcolor": "white"
          },
          "hoverlabel": {
           "align": "left"
          },
          "hovermode": "closest",
          "mapbox": {
           "style": "light"
          },
          "paper_bgcolor": "white",
          "plot_bgcolor": "#E5ECF6",
          "polar": {
           "angularaxis": {
            "gridcolor": "white",
            "linecolor": "white",
            "ticks": ""
           },
           "bgcolor": "#E5ECF6",
           "radialaxis": {
            "gridcolor": "white",
            "linecolor": "white",
            "ticks": ""
           }
          },
          "scene": {
           "xaxis": {
            "backgroundcolor": "#E5ECF6",
            "gridcolor": "white",
            "gridwidth": 2,
            "linecolor": "white",
            "showbackground": true,
            "ticks": "",
            "zerolinecolor": "white"
           },
           "yaxis": {
            "backgroundcolor": "#E5ECF6",
            "gridcolor": "white",
            "gridwidth": 2,
            "linecolor": "white",
            "showbackground": true,
            "ticks": "",
            "zerolinecolor": "white"
           },
           "zaxis": {
            "backgroundcolor": "#E5ECF6",
            "gridcolor": "white",
            "gridwidth": 2,
            "linecolor": "white",
            "showbackground": true,
            "ticks": "",
            "zerolinecolor": "white"
           }
          },
          "shapedefaults": {
           "line": {
            "color": "#2a3f5f"
           }
          },
          "ternary": {
           "aaxis": {
            "gridcolor": "white",
            "linecolor": "white",
            "ticks": ""
           },
           "baxis": {
            "gridcolor": "white",
            "linecolor": "white",
            "ticks": ""
           },
           "bgcolor": "#E5ECF6",
           "caxis": {
            "gridcolor": "white",
            "linecolor": "white",
            "ticks": ""
           }
          },
          "title": {
           "x": 0.05
          },
          "xaxis": {
           "automargin": true,
           "gridcolor": "white",
           "linecolor": "white",
           "ticks": "",
           "title": {
            "standoff": 15
           },
           "zerolinecolor": "white",
           "zerolinewidth": 2
          },
          "yaxis": {
           "automargin": true,
           "gridcolor": "white",
           "linecolor": "white",
           "ticks": "",
           "title": {
            "standoff": 15
           },
           "zerolinecolor": "white",
           "zerolinewidth": 2
          }
         }
        },
        "title": {
         "text": "Breakdown of Annual Revenues"
        }
       }
      }
     },
     "metadata": {},
     "output_type": "display_data"
    }
   ],
   "source": [
    "df_filtered = revenue_data[revenue_data.values > 0]\n",
    "\n",
    "fig = go.Figure(data=[go.Pie(labels=df_filtered.index, values=df_filtered.values, hole=0.3)])\n",
    "\n",
    "# Update layout for the pie chart\n",
    "fig.update_layout(\n",
    "    title_text='Breakdown of Annual Revenues',\n",
    "    annotations=[dict(text=' ', x=0.5, y=0.5, font_size=20, showarrow=False)]\n",
    ")\n",
    "\n",
    "# Display the plot in a notebook or interactive environment\n",
    "fig.show()"
   ]
  },
  {
   "cell_type": "code",
   "execution_count": 11,
   "metadata": {},
   "outputs": [
    {
     "data": {
      "text/html": [
       "<div>\n",
       "<style scoped>\n",
       "    .dataframe tbody tr th:only-of-type {\n",
       "        vertical-align: middle;\n",
       "    }\n",
       "\n",
       "    .dataframe tbody tr th {\n",
       "        vertical-align: top;\n",
       "    }\n",
       "\n",
       "    .dataframe thead th {\n",
       "        text-align: right;\n",
       "    }\n",
       "</style>\n",
       "<table border=\"1\" class=\"dataframe\">\n",
       "  <thead>\n",
       "    <tr style=\"text-align: right;\">\n",
       "      <th></th>\n",
       "      <th>time</th>\n",
       "      <th>charge</th>\n",
       "      <th>discharge</th>\n",
       "      <th>reg_down</th>\n",
       "      <th>reg_up</th>\n",
       "      <th>pres</th>\n",
       "      <th>cres</th>\n",
       "      <th>soc</th>\n",
       "      <th>net_discharge</th>\n",
       "      <th>soc_percent</th>\n",
       "    </tr>\n",
       "  </thead>\n",
       "  <tbody>\n",
       "    <tr>\n",
       "      <th>0</th>\n",
       "      <td>2023-01-01 00:00:00</td>\n",
       "      <td>0.000000</td>\n",
       "      <td>0.489706</td>\n",
       "      <td>0.000000</td>\n",
       "      <td>5.102944e-01</td>\n",
       "      <td>0.0</td>\n",
       "      <td>0.0</td>\n",
       "      <td>2.000000</td>\n",
       "      <td>0.489706</td>\n",
       "      <td>0.500000</td>\n",
       "    </tr>\n",
       "    <tr>\n",
       "      <th>1</th>\n",
       "      <td>2023-01-01 00:30:00</td>\n",
       "      <td>0.000000</td>\n",
       "      <td>0.000000</td>\n",
       "      <td>1.000000</td>\n",
       "      <td>0.000000e+00</td>\n",
       "      <td>0.0</td>\n",
       "      <td>0.0</td>\n",
       "      <td>1.726941</td>\n",
       "      <td>0.000000</td>\n",
       "      <td>0.431735</td>\n",
       "    </tr>\n",
       "    <tr>\n",
       "      <th>2</th>\n",
       "      <td>2023-01-01 01:00:00</td>\n",
       "      <td>0.000000</td>\n",
       "      <td>0.000000</td>\n",
       "      <td>1.000000</td>\n",
       "      <td>0.000000e+00</td>\n",
       "      <td>0.0</td>\n",
       "      <td>0.0</td>\n",
       "      <td>1.726078</td>\n",
       "      <td>0.000000</td>\n",
       "      <td>0.431519</td>\n",
       "    </tr>\n",
       "    <tr>\n",
       "      <th>3</th>\n",
       "      <td>2023-01-01 01:30:00</td>\n",
       "      <td>0.000000</td>\n",
       "      <td>0.000000</td>\n",
       "      <td>1.000000</td>\n",
       "      <td>0.000000e+00</td>\n",
       "      <td>0.0</td>\n",
       "      <td>0.0</td>\n",
       "      <td>1.725215</td>\n",
       "      <td>0.000000</td>\n",
       "      <td>0.431304</td>\n",
       "    </tr>\n",
       "    <tr>\n",
       "      <th>4</th>\n",
       "      <td>2023-01-01 02:00:00</td>\n",
       "      <td>0.000000</td>\n",
       "      <td>0.000000</td>\n",
       "      <td>1.000000</td>\n",
       "      <td>0.000000e+00</td>\n",
       "      <td>0.0</td>\n",
       "      <td>0.0</td>\n",
       "      <td>1.724352</td>\n",
       "      <td>0.000000</td>\n",
       "      <td>0.431088</td>\n",
       "    </tr>\n",
       "    <tr>\n",
       "      <th>5</th>\n",
       "      <td>2023-01-01 02:30:00</td>\n",
       "      <td>0.000000</td>\n",
       "      <td>0.000000</td>\n",
       "      <td>1.000000</td>\n",
       "      <td>0.000000e+00</td>\n",
       "      <td>0.0</td>\n",
       "      <td>0.0</td>\n",
       "      <td>1.723490</td>\n",
       "      <td>0.000000</td>\n",
       "      <td>0.430873</td>\n",
       "    </tr>\n",
       "    <tr>\n",
       "      <th>6</th>\n",
       "      <td>2023-01-01 03:00:00</td>\n",
       "      <td>1.000000</td>\n",
       "      <td>0.000000</td>\n",
       "      <td>0.000000</td>\n",
       "      <td>0.000000e+00</td>\n",
       "      <td>0.0</td>\n",
       "      <td>0.0</td>\n",
       "      <td>1.722628</td>\n",
       "      <td>-1.000000</td>\n",
       "      <td>0.430657</td>\n",
       "    </tr>\n",
       "    <tr>\n",
       "      <th>7</th>\n",
       "      <td>2023-01-01 03:30:00</td>\n",
       "      <td>1.000000</td>\n",
       "      <td>0.000000</td>\n",
       "      <td>0.000000</td>\n",
       "      <td>0.000000e+00</td>\n",
       "      <td>0.0</td>\n",
       "      <td>0.0</td>\n",
       "      <td>2.171767</td>\n",
       "      <td>-1.000000</td>\n",
       "      <td>0.542942</td>\n",
       "    </tr>\n",
       "    <tr>\n",
       "      <th>8</th>\n",
       "      <td>2023-01-01 04:00:00</td>\n",
       "      <td>1.000000</td>\n",
       "      <td>0.000000</td>\n",
       "      <td>0.000000</td>\n",
       "      <td>0.000000e+00</td>\n",
       "      <td>0.0</td>\n",
       "      <td>0.0</td>\n",
       "      <td>2.620681</td>\n",
       "      <td>-1.000000</td>\n",
       "      <td>0.655170</td>\n",
       "    </tr>\n",
       "    <tr>\n",
       "      <th>9</th>\n",
       "      <td>2023-01-01 04:30:00</td>\n",
       "      <td>1.000000</td>\n",
       "      <td>0.000000</td>\n",
       "      <td>0.000000</td>\n",
       "      <td>0.000000e+00</td>\n",
       "      <td>0.0</td>\n",
       "      <td>0.0</td>\n",
       "      <td>3.069371</td>\n",
       "      <td>-1.000000</td>\n",
       "      <td>0.767343</td>\n",
       "    </tr>\n",
       "    <tr>\n",
       "      <th>10</th>\n",
       "      <td>2023-01-01 05:00:00</td>\n",
       "      <td>1.000000</td>\n",
       "      <td>0.000000</td>\n",
       "      <td>0.000000</td>\n",
       "      <td>0.000000e+00</td>\n",
       "      <td>0.0</td>\n",
       "      <td>0.0</td>\n",
       "      <td>3.517836</td>\n",
       "      <td>-1.000000</td>\n",
       "      <td>0.879459</td>\n",
       "    </tr>\n",
       "    <tr>\n",
       "      <th>11</th>\n",
       "      <td>2023-01-01 05:30:00</td>\n",
       "      <td>0.000000</td>\n",
       "      <td>0.000000</td>\n",
       "      <td>0.000000</td>\n",
       "      <td>1.000000e+00</td>\n",
       "      <td>0.0</td>\n",
       "      <td>0.0</td>\n",
       "      <td>3.966077</td>\n",
       "      <td>0.000000</td>\n",
       "      <td>0.991519</td>\n",
       "    </tr>\n",
       "    <tr>\n",
       "      <th>12</th>\n",
       "      <td>2023-01-01 06:00:00</td>\n",
       "      <td>0.000000</td>\n",
       "      <td>0.000000</td>\n",
       "      <td>0.000000</td>\n",
       "      <td>1.000000e+00</td>\n",
       "      <td>0.0</td>\n",
       "      <td>0.0</td>\n",
       "      <td>3.964094</td>\n",
       "      <td>0.000000</td>\n",
       "      <td>0.991024</td>\n",
       "    </tr>\n",
       "    <tr>\n",
       "      <th>13</th>\n",
       "      <td>2023-01-01 06:30:00</td>\n",
       "      <td>0.000000</td>\n",
       "      <td>0.000000</td>\n",
       "      <td>0.000000</td>\n",
       "      <td>1.000000e+00</td>\n",
       "      <td>0.0</td>\n",
       "      <td>0.0</td>\n",
       "      <td>3.962112</td>\n",
       "      <td>0.000000</td>\n",
       "      <td>0.990528</td>\n",
       "    </tr>\n",
       "    <tr>\n",
       "      <th>14</th>\n",
       "      <td>2023-01-01 07:00:00</td>\n",
       "      <td>0.000000</td>\n",
       "      <td>0.000000</td>\n",
       "      <td>0.000000</td>\n",
       "      <td>1.000000e+00</td>\n",
       "      <td>0.0</td>\n",
       "      <td>0.0</td>\n",
       "      <td>3.960131</td>\n",
       "      <td>0.000000</td>\n",
       "      <td>0.990033</td>\n",
       "    </tr>\n",
       "    <tr>\n",
       "      <th>15</th>\n",
       "      <td>2023-01-01 07:30:00</td>\n",
       "      <td>0.000000</td>\n",
       "      <td>0.000000</td>\n",
       "      <td>0.000000</td>\n",
       "      <td>1.000000e+00</td>\n",
       "      <td>0.0</td>\n",
       "      <td>0.0</td>\n",
       "      <td>3.958151</td>\n",
       "      <td>0.000000</td>\n",
       "      <td>0.989538</td>\n",
       "    </tr>\n",
       "    <tr>\n",
       "      <th>16</th>\n",
       "      <td>2023-01-01 08:00:00</td>\n",
       "      <td>0.000000</td>\n",
       "      <td>0.000000</td>\n",
       "      <td>0.000000</td>\n",
       "      <td>1.000000e+00</td>\n",
       "      <td>0.0</td>\n",
       "      <td>0.0</td>\n",
       "      <td>3.956172</td>\n",
       "      <td>0.000000</td>\n",
       "      <td>0.989043</td>\n",
       "    </tr>\n",
       "    <tr>\n",
       "      <th>17</th>\n",
       "      <td>2023-01-01 08:30:00</td>\n",
       "      <td>0.000000</td>\n",
       "      <td>0.000000</td>\n",
       "      <td>0.000000</td>\n",
       "      <td>1.000000e+00</td>\n",
       "      <td>0.0</td>\n",
       "      <td>0.0</td>\n",
       "      <td>3.954194</td>\n",
       "      <td>0.000000</td>\n",
       "      <td>0.988548</td>\n",
       "    </tr>\n",
       "    <tr>\n",
       "      <th>18</th>\n",
       "      <td>2023-01-01 09:00:00</td>\n",
       "      <td>0.000000</td>\n",
       "      <td>0.000000</td>\n",
       "      <td>0.000000</td>\n",
       "      <td>1.000000e+00</td>\n",
       "      <td>0.0</td>\n",
       "      <td>0.0</td>\n",
       "      <td>3.952217</td>\n",
       "      <td>0.000000</td>\n",
       "      <td>0.988054</td>\n",
       "    </tr>\n",
       "    <tr>\n",
       "      <th>19</th>\n",
       "      <td>2023-01-01 09:30:00</td>\n",
       "      <td>0.000000</td>\n",
       "      <td>0.000000</td>\n",
       "      <td>0.000000</td>\n",
       "      <td>1.000000e+00</td>\n",
       "      <td>0.0</td>\n",
       "      <td>0.0</td>\n",
       "      <td>3.950241</td>\n",
       "      <td>0.000000</td>\n",
       "      <td>0.987560</td>\n",
       "    </tr>\n",
       "    <tr>\n",
       "      <th>20</th>\n",
       "      <td>2023-01-01 10:00:00</td>\n",
       "      <td>0.000000</td>\n",
       "      <td>0.000000</td>\n",
       "      <td>0.000000</td>\n",
       "      <td>1.000000e+00</td>\n",
       "      <td>0.0</td>\n",
       "      <td>0.0</td>\n",
       "      <td>3.948265</td>\n",
       "      <td>0.000000</td>\n",
       "      <td>0.987066</td>\n",
       "    </tr>\n",
       "    <tr>\n",
       "      <th>21</th>\n",
       "      <td>2023-01-01 10:30:00</td>\n",
       "      <td>0.000000</td>\n",
       "      <td>0.000000</td>\n",
       "      <td>0.000000</td>\n",
       "      <td>1.000000e+00</td>\n",
       "      <td>0.0</td>\n",
       "      <td>0.0</td>\n",
       "      <td>3.946291</td>\n",
       "      <td>0.000000</td>\n",
       "      <td>0.986573</td>\n",
       "    </tr>\n",
       "    <tr>\n",
       "      <th>22</th>\n",
       "      <td>2023-01-01 11:00:00</td>\n",
       "      <td>0.000000</td>\n",
       "      <td>0.000000</td>\n",
       "      <td>0.000000</td>\n",
       "      <td>1.000000e+00</td>\n",
       "      <td>0.0</td>\n",
       "      <td>0.0</td>\n",
       "      <td>3.944318</td>\n",
       "      <td>0.000000</td>\n",
       "      <td>0.986080</td>\n",
       "    </tr>\n",
       "    <tr>\n",
       "      <th>23</th>\n",
       "      <td>2023-01-01 11:30:00</td>\n",
       "      <td>0.000000</td>\n",
       "      <td>0.000000</td>\n",
       "      <td>0.883336</td>\n",
       "      <td>0.000000e+00</td>\n",
       "      <td>0.0</td>\n",
       "      <td>0.0</td>\n",
       "      <td>3.942346</td>\n",
       "      <td>0.000000</td>\n",
       "      <td>0.985587</td>\n",
       "    </tr>\n",
       "    <tr>\n",
       "      <th>24</th>\n",
       "      <td>2023-01-01 12:00:00</td>\n",
       "      <td>0.000000</td>\n",
       "      <td>0.000000</td>\n",
       "      <td>0.000000</td>\n",
       "      <td>1.000000e+00</td>\n",
       "      <td>0.0</td>\n",
       "      <td>0.0</td>\n",
       "      <td>3.940375</td>\n",
       "      <td>0.000000</td>\n",
       "      <td>0.985094</td>\n",
       "    </tr>\n",
       "    <tr>\n",
       "      <th>25</th>\n",
       "      <td>2023-01-01 12:30:00</td>\n",
       "      <td>0.000000</td>\n",
       "      <td>0.000000</td>\n",
       "      <td>0.000000</td>\n",
       "      <td>1.000000e+00</td>\n",
       "      <td>0.0</td>\n",
       "      <td>0.0</td>\n",
       "      <td>3.938405</td>\n",
       "      <td>0.000000</td>\n",
       "      <td>0.984601</td>\n",
       "    </tr>\n",
       "    <tr>\n",
       "      <th>26</th>\n",
       "      <td>2023-01-01 13:00:00</td>\n",
       "      <td>0.000000</td>\n",
       "      <td>0.000000</td>\n",
       "      <td>0.000000</td>\n",
       "      <td>1.000000e+00</td>\n",
       "      <td>0.0</td>\n",
       "      <td>0.0</td>\n",
       "      <td>3.936435</td>\n",
       "      <td>0.000000</td>\n",
       "      <td>0.984109</td>\n",
       "    </tr>\n",
       "    <tr>\n",
       "      <th>27</th>\n",
       "      <td>2023-01-01 13:30:00</td>\n",
       "      <td>0.000000</td>\n",
       "      <td>0.000000</td>\n",
       "      <td>1.000000</td>\n",
       "      <td>0.000000e+00</td>\n",
       "      <td>0.0</td>\n",
       "      <td>0.0</td>\n",
       "      <td>3.934467</td>\n",
       "      <td>0.000000</td>\n",
       "      <td>0.983617</td>\n",
       "    </tr>\n",
       "    <tr>\n",
       "      <th>28</th>\n",
       "      <td>2023-01-01 14:00:00</td>\n",
       "      <td>0.000000</td>\n",
       "      <td>0.000000</td>\n",
       "      <td>1.000000</td>\n",
       "      <td>0.000000e+00</td>\n",
       "      <td>0.0</td>\n",
       "      <td>0.0</td>\n",
       "      <td>3.932500</td>\n",
       "      <td>0.000000</td>\n",
       "      <td>0.983125</td>\n",
       "    </tr>\n",
       "    <tr>\n",
       "      <th>29</th>\n",
       "      <td>2023-01-01 14:30:00</td>\n",
       "      <td>0.000000</td>\n",
       "      <td>0.000000</td>\n",
       "      <td>1.000000</td>\n",
       "      <td>0.000000e+00</td>\n",
       "      <td>0.0</td>\n",
       "      <td>0.0</td>\n",
       "      <td>3.930534</td>\n",
       "      <td>0.000000</td>\n",
       "      <td>0.982633</td>\n",
       "    </tr>\n",
       "    <tr>\n",
       "      <th>30</th>\n",
       "      <td>2023-01-01 15:00:00</td>\n",
       "      <td>0.000000</td>\n",
       "      <td>0.000000</td>\n",
       "      <td>1.000000</td>\n",
       "      <td>0.000000e+00</td>\n",
       "      <td>0.0</td>\n",
       "      <td>0.0</td>\n",
       "      <td>3.928568</td>\n",
       "      <td>0.000000</td>\n",
       "      <td>0.982142</td>\n",
       "    </tr>\n",
       "    <tr>\n",
       "      <th>31</th>\n",
       "      <td>2023-01-01 15:30:00</td>\n",
       "      <td>0.000000</td>\n",
       "      <td>0.000000</td>\n",
       "      <td>1.000000</td>\n",
       "      <td>0.000000e+00</td>\n",
       "      <td>0.0</td>\n",
       "      <td>0.0</td>\n",
       "      <td>3.926604</td>\n",
       "      <td>0.000000</td>\n",
       "      <td>0.981651</td>\n",
       "    </tr>\n",
       "    <tr>\n",
       "      <th>32</th>\n",
       "      <td>2023-01-01 16:00:00</td>\n",
       "      <td>0.000000</td>\n",
       "      <td>0.000000</td>\n",
       "      <td>1.000000</td>\n",
       "      <td>0.000000e+00</td>\n",
       "      <td>0.0</td>\n",
       "      <td>0.0</td>\n",
       "      <td>3.924641</td>\n",
       "      <td>0.000000</td>\n",
       "      <td>0.981160</td>\n",
       "    </tr>\n",
       "    <tr>\n",
       "      <th>33</th>\n",
       "      <td>2023-01-01 16:30:00</td>\n",
       "      <td>0.000000</td>\n",
       "      <td>0.000000</td>\n",
       "      <td>1.000000</td>\n",
       "      <td>0.000000e+00</td>\n",
       "      <td>0.0</td>\n",
       "      <td>0.0</td>\n",
       "      <td>3.922679</td>\n",
       "      <td>0.000000</td>\n",
       "      <td>0.980670</td>\n",
       "    </tr>\n",
       "    <tr>\n",
       "      <th>34</th>\n",
       "      <td>2023-01-01 17:00:00</td>\n",
       "      <td>0.000000</td>\n",
       "      <td>0.000000</td>\n",
       "      <td>1.000000</td>\n",
       "      <td>0.000000e+00</td>\n",
       "      <td>0.0</td>\n",
       "      <td>0.0</td>\n",
       "      <td>3.920717</td>\n",
       "      <td>0.000000</td>\n",
       "      <td>0.980179</td>\n",
       "    </tr>\n",
       "    <tr>\n",
       "      <th>35</th>\n",
       "      <td>2023-01-01 17:30:00</td>\n",
       "      <td>0.000000</td>\n",
       "      <td>0.000000</td>\n",
       "      <td>1.000000</td>\n",
       "      <td>0.000000e+00</td>\n",
       "      <td>0.0</td>\n",
       "      <td>0.0</td>\n",
       "      <td>3.918757</td>\n",
       "      <td>0.000000</td>\n",
       "      <td>0.979689</td>\n",
       "    </tr>\n",
       "    <tr>\n",
       "      <th>36</th>\n",
       "      <td>2023-01-01 18:00:00</td>\n",
       "      <td>0.000000</td>\n",
       "      <td>0.000000</td>\n",
       "      <td>1.000000</td>\n",
       "      <td>8.072247e-15</td>\n",
       "      <td>0.0</td>\n",
       "      <td>0.0</td>\n",
       "      <td>3.916797</td>\n",
       "      <td>0.000000</td>\n",
       "      <td>0.979199</td>\n",
       "    </tr>\n",
       "    <tr>\n",
       "      <th>37</th>\n",
       "      <td>2023-01-01 18:30:00</td>\n",
       "      <td>0.000000</td>\n",
       "      <td>0.000000</td>\n",
       "      <td>1.000000</td>\n",
       "      <td>0.000000e+00</td>\n",
       "      <td>0.0</td>\n",
       "      <td>0.0</td>\n",
       "      <td>3.914839</td>\n",
       "      <td>0.000000</td>\n",
       "      <td>0.978710</td>\n",
       "    </tr>\n",
       "    <tr>\n",
       "      <th>38</th>\n",
       "      <td>2023-01-01 19:00:00</td>\n",
       "      <td>0.000000</td>\n",
       "      <td>1.000000</td>\n",
       "      <td>0.000000</td>\n",
       "      <td>0.000000e+00</td>\n",
       "      <td>0.0</td>\n",
       "      <td>0.0</td>\n",
       "      <td>3.912882</td>\n",
       "      <td>1.000000</td>\n",
       "      <td>0.978220</td>\n",
       "    </tr>\n",
       "    <tr>\n",
       "      <th>39</th>\n",
       "      <td>2023-01-01 19:30:00</td>\n",
       "      <td>0.000000</td>\n",
       "      <td>1.000000</td>\n",
       "      <td>0.000000</td>\n",
       "      <td>0.000000e+00</td>\n",
       "      <td>0.0</td>\n",
       "      <td>0.0</td>\n",
       "      <td>3.355370</td>\n",
       "      <td>1.000000</td>\n",
       "      <td>0.838842</td>\n",
       "    </tr>\n",
       "    <tr>\n",
       "      <th>40</th>\n",
       "      <td>2023-01-01 20:00:00</td>\n",
       "      <td>0.000000</td>\n",
       "      <td>0.009066</td>\n",
       "      <td>0.000000</td>\n",
       "      <td>9.909338e-01</td>\n",
       "      <td>0.0</td>\n",
       "      <td>0.0</td>\n",
       "      <td>2.798136</td>\n",
       "      <td>0.009066</td>\n",
       "      <td>0.699534</td>\n",
       "    </tr>\n",
       "    <tr>\n",
       "      <th>41</th>\n",
       "      <td>2023-01-01 20:30:00</td>\n",
       "      <td>0.000000</td>\n",
       "      <td>1.000000</td>\n",
       "      <td>0.000000</td>\n",
       "      <td>0.000000e+00</td>\n",
       "      <td>0.0</td>\n",
       "      <td>0.0</td>\n",
       "      <td>2.791701</td>\n",
       "      <td>1.000000</td>\n",
       "      <td>0.697925</td>\n",
       "    </tr>\n",
       "    <tr>\n",
       "      <th>42</th>\n",
       "      <td>2023-01-01 21:00:00</td>\n",
       "      <td>0.000000</td>\n",
       "      <td>1.000000</td>\n",
       "      <td>0.000000</td>\n",
       "      <td>0.000000e+00</td>\n",
       "      <td>0.0</td>\n",
       "      <td>0.0</td>\n",
       "      <td>2.234749</td>\n",
       "      <td>1.000000</td>\n",
       "      <td>0.558687</td>\n",
       "    </tr>\n",
       "    <tr>\n",
       "      <th>43</th>\n",
       "      <td>2023-01-01 21:30:00</td>\n",
       "      <td>0.000000</td>\n",
       "      <td>1.000000</td>\n",
       "      <td>0.000000</td>\n",
       "      <td>0.000000e+00</td>\n",
       "      <td>0.0</td>\n",
       "      <td>0.0</td>\n",
       "      <td>1.678076</td>\n",
       "      <td>1.000000</td>\n",
       "      <td>0.419519</td>\n",
       "    </tr>\n",
       "    <tr>\n",
       "      <th>44</th>\n",
       "      <td>2023-01-01 22:00:00</td>\n",
       "      <td>0.000000</td>\n",
       "      <td>0.000000</td>\n",
       "      <td>1.000000</td>\n",
       "      <td>0.000000e+00</td>\n",
       "      <td>0.0</td>\n",
       "      <td>0.0</td>\n",
       "      <td>1.121682</td>\n",
       "      <td>0.000000</td>\n",
       "      <td>0.280420</td>\n",
       "    </tr>\n",
       "    <tr>\n",
       "      <th>45</th>\n",
       "      <td>2023-01-01 22:30:00</td>\n",
       "      <td>0.000000</td>\n",
       "      <td>0.000000</td>\n",
       "      <td>1.000000</td>\n",
       "      <td>0.000000e+00</td>\n",
       "      <td>0.0</td>\n",
       "      <td>0.0</td>\n",
       "      <td>1.121121</td>\n",
       "      <td>0.000000</td>\n",
       "      <td>0.280280</td>\n",
       "    </tr>\n",
       "    <tr>\n",
       "      <th>46</th>\n",
       "      <td>2023-01-01 23:00:00</td>\n",
       "      <td>0.000000</td>\n",
       "      <td>0.000000</td>\n",
       "      <td>1.000000</td>\n",
       "      <td>0.000000e+00</td>\n",
       "      <td>0.0</td>\n",
       "      <td>0.0</td>\n",
       "      <td>1.120560</td>\n",
       "      <td>0.000000</td>\n",
       "      <td>0.280140</td>\n",
       "    </tr>\n",
       "    <tr>\n",
       "      <th>47</th>\n",
       "      <td>2023-01-01 23:30:00</td>\n",
       "      <td>0.001244</td>\n",
       "      <td>0.000000</td>\n",
       "      <td>0.998756</td>\n",
       "      <td>0.000000e+00</td>\n",
       "      <td>0.0</td>\n",
       "      <td>0.0</td>\n",
       "      <td>1.120000</td>\n",
       "      <td>-0.001244</td>\n",
       "      <td>0.280000</td>\n",
       "    </tr>\n",
       "  </tbody>\n",
       "</table>\n",
       "</div>"
      ],
      "text/plain": [
       "                  time    charge  discharge  reg_down        reg_up  pres  \\\n",
       "0  2023-01-01 00:00:00  0.000000   0.489706  0.000000  5.102944e-01   0.0   \n",
       "1  2023-01-01 00:30:00  0.000000   0.000000  1.000000  0.000000e+00   0.0   \n",
       "2  2023-01-01 01:00:00  0.000000   0.000000  1.000000  0.000000e+00   0.0   \n",
       "3  2023-01-01 01:30:00  0.000000   0.000000  1.000000  0.000000e+00   0.0   \n",
       "4  2023-01-01 02:00:00  0.000000   0.000000  1.000000  0.000000e+00   0.0   \n",
       "5  2023-01-01 02:30:00  0.000000   0.000000  1.000000  0.000000e+00   0.0   \n",
       "6  2023-01-01 03:00:00  1.000000   0.000000  0.000000  0.000000e+00   0.0   \n",
       "7  2023-01-01 03:30:00  1.000000   0.000000  0.000000  0.000000e+00   0.0   \n",
       "8  2023-01-01 04:00:00  1.000000   0.000000  0.000000  0.000000e+00   0.0   \n",
       "9  2023-01-01 04:30:00  1.000000   0.000000  0.000000  0.000000e+00   0.0   \n",
       "10 2023-01-01 05:00:00  1.000000   0.000000  0.000000  0.000000e+00   0.0   \n",
       "11 2023-01-01 05:30:00  0.000000   0.000000  0.000000  1.000000e+00   0.0   \n",
       "12 2023-01-01 06:00:00  0.000000   0.000000  0.000000  1.000000e+00   0.0   \n",
       "13 2023-01-01 06:30:00  0.000000   0.000000  0.000000  1.000000e+00   0.0   \n",
       "14 2023-01-01 07:00:00  0.000000   0.000000  0.000000  1.000000e+00   0.0   \n",
       "15 2023-01-01 07:30:00  0.000000   0.000000  0.000000  1.000000e+00   0.0   \n",
       "16 2023-01-01 08:00:00  0.000000   0.000000  0.000000  1.000000e+00   0.0   \n",
       "17 2023-01-01 08:30:00  0.000000   0.000000  0.000000  1.000000e+00   0.0   \n",
       "18 2023-01-01 09:00:00  0.000000   0.000000  0.000000  1.000000e+00   0.0   \n",
       "19 2023-01-01 09:30:00  0.000000   0.000000  0.000000  1.000000e+00   0.0   \n",
       "20 2023-01-01 10:00:00  0.000000   0.000000  0.000000  1.000000e+00   0.0   \n",
       "21 2023-01-01 10:30:00  0.000000   0.000000  0.000000  1.000000e+00   0.0   \n",
       "22 2023-01-01 11:00:00  0.000000   0.000000  0.000000  1.000000e+00   0.0   \n",
       "23 2023-01-01 11:30:00  0.000000   0.000000  0.883336  0.000000e+00   0.0   \n",
       "24 2023-01-01 12:00:00  0.000000   0.000000  0.000000  1.000000e+00   0.0   \n",
       "25 2023-01-01 12:30:00  0.000000   0.000000  0.000000  1.000000e+00   0.0   \n",
       "26 2023-01-01 13:00:00  0.000000   0.000000  0.000000  1.000000e+00   0.0   \n",
       "27 2023-01-01 13:30:00  0.000000   0.000000  1.000000  0.000000e+00   0.0   \n",
       "28 2023-01-01 14:00:00  0.000000   0.000000  1.000000  0.000000e+00   0.0   \n",
       "29 2023-01-01 14:30:00  0.000000   0.000000  1.000000  0.000000e+00   0.0   \n",
       "30 2023-01-01 15:00:00  0.000000   0.000000  1.000000  0.000000e+00   0.0   \n",
       "31 2023-01-01 15:30:00  0.000000   0.000000  1.000000  0.000000e+00   0.0   \n",
       "32 2023-01-01 16:00:00  0.000000   0.000000  1.000000  0.000000e+00   0.0   \n",
       "33 2023-01-01 16:30:00  0.000000   0.000000  1.000000  0.000000e+00   0.0   \n",
       "34 2023-01-01 17:00:00  0.000000   0.000000  1.000000  0.000000e+00   0.0   \n",
       "35 2023-01-01 17:30:00  0.000000   0.000000  1.000000  0.000000e+00   0.0   \n",
       "36 2023-01-01 18:00:00  0.000000   0.000000  1.000000  8.072247e-15   0.0   \n",
       "37 2023-01-01 18:30:00  0.000000   0.000000  1.000000  0.000000e+00   0.0   \n",
       "38 2023-01-01 19:00:00  0.000000   1.000000  0.000000  0.000000e+00   0.0   \n",
       "39 2023-01-01 19:30:00  0.000000   1.000000  0.000000  0.000000e+00   0.0   \n",
       "40 2023-01-01 20:00:00  0.000000   0.009066  0.000000  9.909338e-01   0.0   \n",
       "41 2023-01-01 20:30:00  0.000000   1.000000  0.000000  0.000000e+00   0.0   \n",
       "42 2023-01-01 21:00:00  0.000000   1.000000  0.000000  0.000000e+00   0.0   \n",
       "43 2023-01-01 21:30:00  0.000000   1.000000  0.000000  0.000000e+00   0.0   \n",
       "44 2023-01-01 22:00:00  0.000000   0.000000  1.000000  0.000000e+00   0.0   \n",
       "45 2023-01-01 22:30:00  0.000000   0.000000  1.000000  0.000000e+00   0.0   \n",
       "46 2023-01-01 23:00:00  0.000000   0.000000  1.000000  0.000000e+00   0.0   \n",
       "47 2023-01-01 23:30:00  0.001244   0.000000  0.998756  0.000000e+00   0.0   \n",
       "\n",
       "    cres       soc  net_discharge  soc_percent  \n",
       "0    0.0  2.000000       0.489706     0.500000  \n",
       "1    0.0  1.726941       0.000000     0.431735  \n",
       "2    0.0  1.726078       0.000000     0.431519  \n",
       "3    0.0  1.725215       0.000000     0.431304  \n",
       "4    0.0  1.724352       0.000000     0.431088  \n",
       "5    0.0  1.723490       0.000000     0.430873  \n",
       "6    0.0  1.722628      -1.000000     0.430657  \n",
       "7    0.0  2.171767      -1.000000     0.542942  \n",
       "8    0.0  2.620681      -1.000000     0.655170  \n",
       "9    0.0  3.069371      -1.000000     0.767343  \n",
       "10   0.0  3.517836      -1.000000     0.879459  \n",
       "11   0.0  3.966077       0.000000     0.991519  \n",
       "12   0.0  3.964094       0.000000     0.991024  \n",
       "13   0.0  3.962112       0.000000     0.990528  \n",
       "14   0.0  3.960131       0.000000     0.990033  \n",
       "15   0.0  3.958151       0.000000     0.989538  \n",
       "16   0.0  3.956172       0.000000     0.989043  \n",
       "17   0.0  3.954194       0.000000     0.988548  \n",
       "18   0.0  3.952217       0.000000     0.988054  \n",
       "19   0.0  3.950241       0.000000     0.987560  \n",
       "20   0.0  3.948265       0.000000     0.987066  \n",
       "21   0.0  3.946291       0.000000     0.986573  \n",
       "22   0.0  3.944318       0.000000     0.986080  \n",
       "23   0.0  3.942346       0.000000     0.985587  \n",
       "24   0.0  3.940375       0.000000     0.985094  \n",
       "25   0.0  3.938405       0.000000     0.984601  \n",
       "26   0.0  3.936435       0.000000     0.984109  \n",
       "27   0.0  3.934467       0.000000     0.983617  \n",
       "28   0.0  3.932500       0.000000     0.983125  \n",
       "29   0.0  3.930534       0.000000     0.982633  \n",
       "30   0.0  3.928568       0.000000     0.982142  \n",
       "31   0.0  3.926604       0.000000     0.981651  \n",
       "32   0.0  3.924641       0.000000     0.981160  \n",
       "33   0.0  3.922679       0.000000     0.980670  \n",
       "34   0.0  3.920717       0.000000     0.980179  \n",
       "35   0.0  3.918757       0.000000     0.979689  \n",
       "36   0.0  3.916797       0.000000     0.979199  \n",
       "37   0.0  3.914839       0.000000     0.978710  \n",
       "38   0.0  3.912882       1.000000     0.978220  \n",
       "39   0.0  3.355370       1.000000     0.838842  \n",
       "40   0.0  2.798136       0.009066     0.699534  \n",
       "41   0.0  2.791701       1.000000     0.697925  \n",
       "42   0.0  2.234749       1.000000     0.558687  \n",
       "43   0.0  1.678076       1.000000     0.419519  \n",
       "44   0.0  1.121682       0.000000     0.280420  \n",
       "45   0.0  1.121121       0.000000     0.280280  \n",
       "46   0.0  1.120560       0.000000     0.280140  \n",
       "47   0.0  1.120000      -0.001244     0.280000  "
      ]
     },
     "execution_count": 11,
     "metadata": {},
     "output_type": "execute_result"
    }
   ],
   "source": [
    "# Create a DataFrame for the results\n",
    "data = {\n",
    "    'time': price_df.index[:len(all_charging_schedules)],\n",
    "    'charge': all_charging_schedules,\n",
    "    'discharge': all_discharging_schedules,\n",
    "    'reg_down': all_reg_down_schedules,\n",
    "    'reg_up': all_reg_up_schedules,\n",
    "    'pres': all_pres_schedules,\n",
    "    'cres': all_cres_schedules,\n",
    "    'soc': all_soc_schedules\n",
    "}\n",
    "\n",
    "result_df = pd.DataFrame(data)\n",
    "\n",
    "#result_df = result_df.set_index(['t'])\n",
    "\n",
    "result_df['net_discharge'] = result_df['discharge'] - result_df['charge']\n",
    "result_df['soc_percent'] = result_df['soc'] /cap_energy\n",
    "\n",
    "result_df"
   ]
  },
  {
   "cell_type": "code",
   "execution_count": 12,
   "metadata": {},
   "outputs": [],
   "source": [
    "price_df.index.names = ['time']\n",
    "price_data_ex = price_df.reset_index().to_json(orient='records', date_format='iso')\n",
    "result_data_ex = result_df.to_json(orient='records', date_format='iso')"
   ]
  },
  {
   "cell_type": "code",
   "execution_count": 13,
   "metadata": {},
   "outputs": [
    {
     "name": "stdout",
     "output_type": "stream",
     "text": [
      "HTML file generated:test.html\n"
     ]
    }
   ],
   "source": [
    "from scripts.result_export import generate_html\n",
    "\n",
    "BESS_icost = 207\n",
    "BESS_ecost = 355\n",
    "BESS_pcost = 153\n",
    "\n",
    "annual_revenue = total_revenue/num_slices * 365\n",
    "discount_rate = 0.05\n",
    "om_percentage = 0.05\n",
    "\n",
    "generate_html(filename, BESS_icost, BESS_ecost, BESS_pcost, cap_energy, cap_power, annual_revenue, price_data_ex, result_data_ex, revenue_data, discount_rate, om_percentage, calendar_life)"
   ]
  },
  {
   "cell_type": "code",
   "execution_count": 14,
   "metadata": {},
   "outputs": [
    {
     "ename": "NameError",
     "evalue": "name 'initial_cost' is not defined",
     "output_type": "error",
     "traceback": [
      "\u001b[1;31m---------------------------------------------------------------------------\u001b[0m",
      "\u001b[1;31mNameError\u001b[0m                                 Traceback (most recent call last)",
      "Cell \u001b[1;32mIn[14], line 1\u001b[0m\n\u001b[1;32m----> 1\u001b[0m \u001b[43minitial_cost\u001b[49m\n",
      "\u001b[1;31mNameError\u001b[0m: name 'initial_cost' is not defined"
     ]
    }
   ],
   "source": [
    "initial_cost"
   ]
  },
  {
   "cell_type": "code",
   "execution_count": null,
   "metadata": {},
   "outputs": [],
   "source": [
    "BESS_icost = 207000\n",
    "BESS_ecost = 355000\n",
    "BESS_pcost = 153000\n",
    "\n",
    "initial_cost = 207000 + 355000 * cap_energy + 153000*cap_power\n",
    "annual_cost = initial_cost * 0.05\n",
    "annual_revenue = total_revenue/num_slices * 365\n",
    "discount_rate = 0.05\n",
    "om_percentage = 0.05"
   ]
  },
  {
   "cell_type": "code",
   "execution_count": null,
   "metadata": {},
   "outputs": [],
   "source": [
    "initial_cost"
   ]
  },
  {
   "cell_type": "code",
   "execution_count": null,
   "metadata": {},
   "outputs": [],
   "source": [
    "annual_cost"
   ]
  },
  {
   "cell_type": "markdown",
   "metadata": {},
   "source": [
    "# Plot"
   ]
  },
  {
   "cell_type": "code",
   "execution_count": null,
   "metadata": {},
   "outputs": [],
   "source": [
    "df = result_df\n",
    "df = df.set_index(['time'])\n",
    "\n",
    "#df['d'] = df['time'].dt.date\n",
    "#df['t'] = df['time'].dt.time\n",
    "#df = df.set_index(['d', 't']).drop(columns = ['time'])\n"
   ]
  },
  {
   "cell_type": "code",
   "execution_count": null,
   "metadata": {},
   "outputs": [],
   "source": [
    "start_time = 0\n",
    "end_time = 48\n",
    "\n",
    "# Create price figure\n",
    "fig_price = go.Figure()\n",
    "fig_price.add_trace(go.Scatter(x=price_df[start_time:end_time].index, y=price_df['arb_energy_price'], mode='lines', name='Energy'))\n",
    "fig_price.add_trace(go.Scatter(x=price_df[start_time:end_time].index, y=price_df['reg_up_price'], mode='lines', name='Regulation Up'))\n",
    "fig_price.add_trace(go.Scatter(x=price_df[start_time:end_time].index, y=price_df['reg_down_price'], mode='lines', name='Regulation Down'))\n",
    "fig_price.add_trace(go.Scatter(x=price_df[start_time:end_time].index, y=price_df['pres_capacity_price'], mode='lines', name='Primary Reserve'))\n",
    "fig_price.add_trace(go.Scatter(x=price_df[start_time:end_time].index, y=price_df['cres_capacity_price'], mode='lines', name='Contingency Reserve'))\n",
    "\n",
    "fig_price.update_layout(\n",
    "    title='Prices',\n",
    "    xaxis_title='Time',\n",
    "    yaxis_title='$/MWh',\n",
    "    legend=dict(\n",
    "        orientation='h',\n",
    "        x=0,\n",
    "        y=1.1\n",
    "    ),\n",
    "    autosize=True,\n",
    "    margin=dict(l=40, r=40, t=80, b=40),\n",
    ")\n",
    "\n",
    "# Create charging and discharging figure\n",
    "fig_charge_discharge = go.Figure()\n",
    "fig_charge_discharge.add_trace(go.Scatter(x=result_df[start_time:end_time].index, y=result_df['net_discharge'], mode='lines', name='Net Power Discharge'))\n",
    "fig_charge_discharge.add_trace(go.Scatter(x=result_df[start_time:end_time].index, y=result_df['reg_up'], mode='lines', name='Regulation Up'))\n",
    "fig_charge_discharge.add_trace(go.Scatter(x=result_df[start_time:end_time].index, y=result_df['reg_down'], mode='lines', name='Regulation Down'))\n",
    "fig_charge_discharge.add_trace(go.Scatter(x=result_df[start_time:end_time].index, y=result_df['pres'], mode='lines', name='Primary Reserve'))\n",
    "fig_charge_discharge.add_trace(go.Scatter(x=result_df[start_time:end_time].index, y=result_df['cres'], mode='lines', name='Contingency Reserve'))\n",
    "\n",
    "fig_charge_discharge.update_layout(\n",
    "    title='Charging and Discharging Schedule',\n",
    "    xaxis_title='Time',\n",
    "    yaxis_title='Power (MW)',\n",
    "    legend=dict(\n",
    "        orientation='h',\n",
    "        x=0,\n",
    "        y=1.1\n",
    "    ),\n",
    "    autosize=True,\n",
    "    margin=dict(l=40, r=40, t=80, b=40),\n",
    ")\n",
    "\n",
    "# Create state of charge figure\n",
    "fig_soc = go.Figure()\n",
    "fig_soc.add_trace(go.Scatter(x=result_df.index[start_time:end_time], y=result_df['soc_percent']*100, mode='lines', name='net', line=dict(color='orange')))\n",
    "fig_soc.update_layout(\n",
    "    title='State of Charge',\n",
    "    xaxis_title='Time',\n",
    "    yaxis_title='SOC (%)',\n",
    "    legend=dict(\n",
    "        orientation='h',\n",
    "        x=0,\n",
    "        y=1.1\n",
    "    ),\n",
    "    autosize=True,\n",
    "    margin=dict(l=40, r=40, t=80, b=40),\n",
    ")\n",
    "\n",
    "# Generate HTML snippets for each figure\n",
    "price_html = pio.to_html(fig_price, full_html=False)\n",
    "charge_discharge_html = pio.to_html(fig_charge_discharge, full_html=False)\n",
    "soc_html = pio.to_html(fig_soc, full_html=False)\n",
    "\n",
    "# Combine all HTML snippets into a single HTML document\n",
    "full_html = f\"\"\"\n",
    "<!DOCTYPE html>\n",
    "<html>\n",
    "<head>\n",
    "    <meta charset=\"UTF-8\">\n",
    "    <title>Figures</title>\n",
    "    <script src=\"https://cdn.plot.ly/plotly-latest.min.js\"></script>\n",
    "</head>\n",
    "<body>\n",
    "    <h1>Price Figure</h1>\n",
    "    {price_html}\n",
    "    <h1>Charging and Discharging Schedule</h1>\n",
    "    {charge_discharge_html}\n",
    "    <h1>State of Charge</h1>\n",
    "    {soc_html}\n",
    "</body>\n",
    "</html>\n",
    "\"\"\"\n",
    "\n",
    "# Save to an HTML file\n",
    "with open(\"result/day/\" + filename + \".html\", \"w\",  encoding=\"utf-8\") as file:\n",
    "    file.write(full_html)\n",
    "\n",
    "\n"
   ]
  }
 ],
 "metadata": {
  "kernelspec": {
   "display_name": "Python 3",
   "language": "python",
   "name": "python3"
  },
  "language_info": {
   "codemirror_mode": {
    "name": "ipython",
    "version": 3
   },
   "file_extension": ".py",
   "mimetype": "text/x-python",
   "name": "python",
   "nbconvert_exporter": "python",
   "pygments_lexer": "ipython3",
   "version": "3.11.4"
  }
 },
 "nbformat": 4,
 "nbformat_minor": 2
}
