{
 "cells": [
  {
   "cell_type": "code",
   "execution_count": 1,
   "metadata": {},
   "outputs": [
    {
     "name": "stdout",
     "output_type": "stream",
     "text": [
      "HTML file with synchronized plots has been created: synchronized_plots.html\n"
     ]
    }
   ],
   "source": [
    "import plotly.graph_objs as go\n",
    "import plotly.io as pio\n",
    "\n",
    "# Generate some sample data\n",
    "x = list(range(10))\n",
    "y1 = [i**2 for i in x]\n",
    "y2 = [i**3 for i in x]\n",
    "\n",
    "# Define the figures\n",
    "fig1 = go.Figure(data=[go.Scatter(x=x, y=y1, mode='lines', name='y1')])\n",
    "fig2 = go.Figure(data=[go.Scatter(x=x, y=y2, mode='lines', name='y2')])\n",
    "\n",
    "# HTML template with JavaScript for synchronizing the zoom\n",
    "html_template = \"\"\"\n",
    "<html>\n",
    "<head>\n",
    "<script src=\"https://cdn.plot.ly/plotly-latest.min.js\"></script>\n",
    "</head>\n",
    "<body>\n",
    "<div id=\"plot1\" style=\"width: 50%; display: inline-block;\"></div>\n",
    "<div id=\"plot2\" style=\"width: 50%; display: inline-block;\"></div>\n",
    "<script>\n",
    "    var plot1 = {};\n",
    "    var plot2 = {};\n",
    "    \n",
    "    Plotly.newPlot('plot1', plot1.data, plot1.layout);\n",
    "    Plotly.newPlot('plot2', plot2.data, plot2.layout);\n",
    "    \n",
    "    var d3 = Plotly.d3;\n",
    "    \n",
    "    function syncZoom(eventdata) {\n",
    "        if (eventdata['xaxis.range[0]']) {\n",
    "            Plotly.relayout('plot1', 'xaxis.range', [eventdata['xaxis.range[0]'], eventdata['xaxis.range[1]']]);\n",
    "            Plotly.relayout('plot2', 'xaxis.range', [eventdata['xaxis.range[0]'], eventdata['xaxis.range[1]']]);\n",
    "        }\n",
    "        if (eventdata['yaxis.range[0]']) {\n",
    "            Plotly.relayout('plot1', 'yaxis.range', [eventdata['yaxis.range[0]'], eventdata['yaxis.range[1]']]);\n",
    "            Plotly.relayout('plot2', 'yaxis.range', [eventdata['yaxis.range[0]'], eventdata['yaxis.range[1]']]);\n",
    "        }\n",
    "    }\n",
    "    \n",
    "    document.getElementById('plot1').on('plotly_relayout', function(eventdata) {\n",
    "        syncZoom(eventdata);\n",
    "    });\n",
    "    document.getElementById('plot2').on('plotly_relayout', function(eventdata) {\n",
    "        syncZoom(eventdata);\n",
    "    });\n",
    "</script>\n",
    "</body>\n",
    "</html>\n",
    "\"\"\"\n",
    "\n",
    "# Insert the figure data and layout into the HTML template\n",
    "html = html_template.replace('var plot1 = {};', f'var plot1 = {fig1.to_json()};')\n",
    "html = html.replace('var plot2 = {};', f'var plot2 = {fig2.to_json()};')\n",
    "\n",
    "# Save the HTML file\n",
    "with open('synchronized_plots.html', 'w') as f:\n",
    "    f.write(html)\n",
    "\n",
    "print(\"HTML file with synchronized plots has been created: synchronized_plots.html\")\n"
   ]
  }
 ],
 "metadata": {
  "kernelspec": {
   "display_name": "Python 3",
   "language": "python",
   "name": "python3"
  },
  "language_info": {
   "codemirror_mode": {
    "name": "ipython",
    "version": 3
   },
   "file_extension": ".py",
   "mimetype": "text/x-python",
   "name": "python",
   "nbconvert_exporter": "python",
   "pygments_lexer": "ipython3",
   "version": "3.11.4"
  }
 },
 "nbformat": 4,
 "nbformat_minor": 2
}
