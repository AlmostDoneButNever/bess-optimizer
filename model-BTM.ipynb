{
 "cells": [
  {
   "cell_type": "code",
   "execution_count": null,
   "metadata": {},
   "outputs": [],
   "source": [
    "from pyomo.environ import *\n",
    "import pandas as pd\n",
    "import matplotlib.pyplot as plt\n",
    "import plotly.graph_objects as go\n",
    "from dash import Dash, dcc, html\n",
    "import webbrowser\n",
    "from threading import Timer\n",
    "import dash_bootstrap_components as dbc\n",
    "import plotly.io as pio\n",
    "from dash.dependencies import Input, Output\n",
    "import json\n",
    "from scripts.result_export import generate_html\n",
    "from scripts.price_process import price_process\n"
   ]
  },
  {
   "cell_type": "markdown",
   "metadata": {},
   "source": [
    "# Read Data"
   ]
  },
  {
   "cell_type": "code",
   "execution_count": null,
   "metadata": {},
   "outputs": [],
   "source": [
    "excel_mode = 1"
   ]
  },
  {
   "cell_type": "code",
   "execution_count": null,
   "metadata": {},
   "outputs": [],
   "source": [
    "if excel_mode == 1:\n",
    "    # Read price data from Excel\n",
    "    energy_price = pd.read_excel('data/btm/energy_price.xlsx', index_col=0)\n",
    "    demand_price = pd.read_excel('data/btm/demand_price.xlsx', index_col=0)\n",
    "    load_profile = pd.read_excel('data/btm/load_profile.xlsx', index_col=0)\n",
    "\n",
    "    model_time_period = 24    # periods\n",
    "    dt = 1\n",
    "\n",
    "    price_df = energy_price.copy()"
   ]
  },
  {
   "cell_type": "code",
   "execution_count": null,
   "metadata": {},
   "outputs": [],
   "source": [
    "dir_path = 'data/prices/'\n",
    "prim_category = 'PRIRESA'\n",
    "cons_category = 'CONRESA'\n",
    "\n",
    "price_df = price_process(dir_path, prim_category, cons_category)\n"
   ]
  },
  {
   "cell_type": "code",
   "execution_count": null,
   "metadata": {},
   "outputs": [],
   "source": [
    "# Parameters\n",
    "schedule_data = pd.read_excel('data/schedule_data_s3.xlsx', sheet_name= None, index_col=0)\n",
    "\n",
    "λ_min = schedule_data['soc_limit']['min']\n",
    "λ_max = schedule_data['soc_limit']['max']\n",
    "theta = schedule_data['availability']\n",
    "\n",
    "z = {}\n",
    "s = {}\n",
    "z['arb'], z['reg'], z['pres'], z['cres'], z['opp'] = schedule_data['basis'].value.values\n",
    "s['reg'] = schedule_data['basis'].loc['regulation', 'sym']\n"
   ]
  },
  {
   "cell_type": "code",
   "execution_count": null,
   "metadata": {},
   "outputs": [],
   "source": [
    "filename = \"test\"\n",
    "\n",
    "z['opp'] = 0\n",
    "# s['reg'] = 1\n",
    "\n",
    "cap_power = 1  # Example value\n",
    "cap_energy = 4  # Example value\n",
    "\n",
    "Seff = 0.9995\n",
    "Ceff = 0.9\n",
    "Deff = 0.9\n",
    "\n",
    "\n",
    "λ_0 = 0.5\n",
    "initial_soc = λ_0 * cap_energy\n",
    "\n",
    "kappa = 0.95     # regulation performance score\n",
    "beta = 0.15       # activated portion for reserve\n",
    "\n",
    "\n",
    "cycle_life = 3650\n",
    "calendar_life = 10\n",
    "total_time_period = len(price_df)\n",
    "num_slices = int(total_time_period // model_time_period)     # number of time slices to model\n",
    "\n",
    "η = cycle_life/calendar_life/365                 # number of cycle per time slice"
   ]
  },
  {
   "cell_type": "markdown",
   "metadata": {},
   "source": [
    "# Model"
   ]
  },
  {
   "cell_type": "code",
   "execution_count": null,
   "metadata": {},
   "outputs": [],
   "source": [
    "def optimize_revenue(initial_soc, periodic_data, current_period, first_period, last_period):\n",
    "\n",
    "    energy_price, load_profile = periodic_data\n",
    "    total_time_period = len(energy_price)\n",
    "\n",
    "    T = range(1, total_time_period + 1)\n",
    "    SOC_T = range(0, total_time_period + 1)\n",
    "\n",
    "    p_elec = {t: energy_price['Price'].values[t-1] for t in T}\n",
    "    L_elec = {t: load_profile['Load'].values[t-1] for t in T}\n",
    "\n",
    "    start_soc = λ_0 * cap_energy\n",
    "\n",
    "    # Define the model\n",
    "    model = ConcreteModel()\n",
    "\n",
    "    # Define variables\n",
    "    model.P_grid = Var(T, within=NonNegativeReals)\n",
    "    model.P_grid_L = Var(T, within=NonNegativeReals)\n",
    "    model.P_grid_S = Var(T, within=NonNegativeReals, bounds = (0, cap_power))\n",
    "    model.P_S_L = Var(T, within=NonNegativeReals, bounds = (0, cap_power))\n",
    "    model.SOC = Var(SOC_T, within=NonNegativeReals, bounds = (0, cap_energy))\n",
    "\n",
    "    # Objective function\n",
    "    def total_cost(model):\n",
    "        return sum(model.P_grid[t] * p_elec[t] for t in T)\n",
    "    model.total_cost = Objective(rule=total_cost, sense=minimize)\n",
    "\n",
    "    # Constraints\n",
    "\n",
    "    # Constraint 1: Total grid power\n",
    "    def grid_power_rule(model, t):\n",
    "        return model.P_grid[t] == model.P_grid_L[t] + model.P_grid_S[t]\n",
    "    model.grid_power_constraint = Constraint(T, rule=grid_power_rule)\n",
    "\n",
    "    # Constraint 2: Load balance\n",
    "    def load_balance_rule(model, t):\n",
    "        return model.P_grid_L[t] + model.P_S_L[t] == L_elec[t]\n",
    "    model.load_balance_constraint = Constraint(T, rule=load_balance_rule)\n",
    "\n",
    "    # Constraint 3: Storage energy balance\n",
    "    def storage_energy_balance_rule(model, t):\n",
    "        if t == 0:\n",
    "                return model.SOC[t] == initial_soc\n",
    "        else:\n",
    "            return model.SOC[t] == model.SOC[t-1] * Seff + (model.P_grid_S[t] * Ceff - model.P_S_L[t] / Deff) * dt\n",
    "    model.storage_energy_balance_constraint = Constraint(SOC_T, rule=storage_energy_balance_rule)\n",
    "\n",
    "    # Solver\n",
    "    solver = SolverFactory('glpk')\n",
    "\n",
    "    # Solve the model\n",
    "    results = solver.solve(model, tee=True)\n",
    "\n",
    "    # Extract results for charging, discharging, and SOC\n",
    "    grid_power = [model.P_grid[t].value for t in T]  # Charging as negative\n",
    "    battery_charge = [model.P_grid_S[t].value for t in T]  # Charging as negative\n",
    "    batter_discharge = [model.P_S_L[t].value for t in T]  # Discharging as positive\n",
    "    soc_schedule = [model.SOC[t].value for t in SOC_T]  # State of Charge\n",
    "\n",
    "    return model.total_cost(), grid_power, battery_charge, batter_discharge, soc_schedule \n"
   ]
  },
  {
   "cell_type": "markdown",
   "metadata": {},
   "source": [
    "# Run"
   ]
  },
  {
   "cell_type": "code",
   "execution_count": null,
   "metadata": {},
   "outputs": [],
   "source": [
    "# Lists to store results\n",
    "total_revenue = 0\n",
    "\n",
    "all_grid_schedules = []\n",
    "all_charging_schedules = []\n",
    "all_discharging_schedules = []\n",
    "all_soc_schedules = []\n",
    "\n",
    "first_p = 0\n",
    "last_p = num_slices - 1\n",
    "\n",
    "# Run the optimization for each time period\n",
    "for p in range(num_slices):\n",
    "    print(\"watch\", p)\n",
    "    periodic_energy_price = energy_price[p*model_time_period:(p+1)*model_time_period]    \n",
    "    periodic_load_profile = load_profile[p*model_time_period:(p+1)*model_time_period]\n",
    "    obj, grid_schedule, charging_schedule, discharging_schedule, soc_schedule = optimize_revenue(initial_soc, [periodic_energy_price, periodic_load_profile], p, first_p, last_p)\n",
    "    final_soc = soc_schedule[-1]\n",
    "    \n",
    "    # Store the results\n",
    "    total_revenue += obj\n",
    "\n",
    "    all_grid_schedules.extend(grid_schedule)\n",
    "    all_charging_schedules.extend(charging_schedule)\n",
    "    all_discharging_schedules.extend(discharging_schedule)\n",
    "    all_soc_schedules.extend(soc_schedule[:-1])\n",
    "\n",
    "    # Update the initial SOC for the next day\n",
    "    initial_soc = final_soc\n",
    "\n",
    "print(total_revenue)"
   ]
  },
  {
   "cell_type": "code",
   "execution_count": null,
   "metadata": {},
   "outputs": [],
   "source": [
    "# Create a DataFrame for the results\n",
    "data = {\n",
    "    'time': price_df.index,\n",
    "    'grid': all_grid_schedules,\n",
    "    'charge': all_charging_schedules,\n",
    "    'discharge': all_discharging_schedules,\n",
    "    'soc': all_soc_schedules\n",
    "}\n",
    "\n",
    "result_df = pd.DataFrame(data)\n",
    "\n",
    "#result_df = result_df.set_index(['t'])\n",
    "\n",
    "result_df['net_discharge'] = result_df['discharge'] - result_df['charge']\n",
    "result_df['soc_percent'] = result_df['soc'] /cap_energy\n",
    "\n",
    "result_df"
   ]
  },
  {
   "cell_type": "code",
   "execution_count": null,
   "metadata": {},
   "outputs": [],
   "source": [
    "price_df.index.names = ['time']\n",
    "price_data_ex = price_df.reset_index().to_json(orient='records', date_format='iso')\n",
    "result_data_ex = result_df.to_json(orient='records', date_format='iso')"
   ]
  },
  {
   "cell_type": "code",
   "execution_count": null,
   "metadata": {},
   "outputs": [],
   "source": [
    "from scripts.result_export import generate_html\n",
    "\n",
    "BESS_icost = 207\n",
    "BESS_ecost = 355\n",
    "BESS_pcost = 153\n",
    "\n",
    "annual_revenue = total_revenue/num_slices * 365\n",
    "discount_rate = 0.05\n",
    "om_percentage = 0.05\n",
    "\n",
    "generate_html(filename, BESS_icost, BESS_ecost, BESS_pcost, cap_energy, cap_power, annual_revenue, price_data_ex, result_data_ex, revenue_data, discount_rate, om_percentage, calendar_life)"
   ]
  },
  {
   "cell_type": "code",
   "execution_count": null,
   "metadata": {},
   "outputs": [],
   "source": [
    "initial_cost"
   ]
  },
  {
   "cell_type": "code",
   "execution_count": null,
   "metadata": {},
   "outputs": [],
   "source": [
    "BESS_icost = 207000\n",
    "BESS_ecost = 355000\n",
    "BESS_pcost = 153000\n",
    "\n",
    "initial_cost = 207000 + 355000 * cap_energy + 153000*cap_power\n",
    "annual_cost = initial_cost * 0.05\n",
    "annual_revenue = total_revenue/num_slices * 365\n",
    "discount_rate = 0.05\n",
    "om_percentage = 0.05"
   ]
  },
  {
   "cell_type": "code",
   "execution_count": null,
   "metadata": {},
   "outputs": [],
   "source": [
    "initial_cost"
   ]
  },
  {
   "cell_type": "code",
   "execution_count": null,
   "metadata": {},
   "outputs": [],
   "source": [
    "annual_cost"
   ]
  },
  {
   "cell_type": "markdown",
   "metadata": {},
   "source": [
    "# Plot"
   ]
  },
  {
   "cell_type": "code",
   "execution_count": null,
   "metadata": {},
   "outputs": [],
   "source": [
    "df = result_df\n",
    "df = df.set_index(['time'])\n",
    "\n",
    "#df['d'] = df['time'].dt.date\n",
    "#df['t'] = df['time'].dt.time\n",
    "#df = df.set_index(['d', 't']).drop(columns = ['time'])\n"
   ]
  },
  {
   "cell_type": "code",
   "execution_count": null,
   "metadata": {},
   "outputs": [],
   "source": [
    "start_time = 0\n",
    "end_time = 48\n",
    "\n",
    "# Create price figure\n",
    "fig_price = go.Figure()\n",
    "fig_price.add_trace(go.Scatter(x=price_df[start_time:end_time].index, y=price_df['arb_energy_price'], mode='lines', name='Energy'))\n",
    "fig_price.add_trace(go.Scatter(x=price_df[start_time:end_time].index, y=price_df['reg_up_price'], mode='lines', name='Regulation Up'))\n",
    "fig_price.add_trace(go.Scatter(x=price_df[start_time:end_time].index, y=price_df['reg_down_price'], mode='lines', name='Regulation Down'))\n",
    "fig_price.add_trace(go.Scatter(x=price_df[start_time:end_time].index, y=price_df['pres_capacity_price'], mode='lines', name='Primary Reserve'))\n",
    "fig_price.add_trace(go.Scatter(x=price_df[start_time:end_time].index, y=price_df['cres_capacity_price'], mode='lines', name='Contingency Reserve'))\n",
    "\n",
    "fig_price.update_layout(\n",
    "    title='Prices',\n",
    "    xaxis_title='Time',\n",
    "    yaxis_title='$/MWh',\n",
    "    legend=dict(\n",
    "        orientation='h',\n",
    "        x=0,\n",
    "        y=1.1\n",
    "    ),\n",
    "    autosize=True,\n",
    "    margin=dict(l=40, r=40, t=80, b=40),\n",
    ")\n",
    "\n",
    "# Create charging and discharging figure\n",
    "fig_charge_discharge = go.Figure()\n",
    "fig_charge_discharge.add_trace(go.Scatter(x=result_df[start_time:end_time].index, y=result_df['net_discharge'], mode='lines', name='Net Power Discharge'))\n",
    "fig_charge_discharge.add_trace(go.Scatter(x=result_df[start_time:end_time].index, y=result_df['reg_up'], mode='lines', name='Regulation Up'))\n",
    "fig_charge_discharge.add_trace(go.Scatter(x=result_df[start_time:end_time].index, y=result_df['reg_down'], mode='lines', name='Regulation Down'))\n",
    "fig_charge_discharge.add_trace(go.Scatter(x=result_df[start_time:end_time].index, y=result_df['pres'], mode='lines', name='Primary Reserve'))\n",
    "fig_charge_discharge.add_trace(go.Scatter(x=result_df[start_time:end_time].index, y=result_df['cres'], mode='lines', name='Contingency Reserve'))\n",
    "\n",
    "fig_charge_discharge.update_layout(\n",
    "    title='Charging and Discharging Schedule',\n",
    "    xaxis_title='Time',\n",
    "    yaxis_title='Power (MW)',\n",
    "    legend=dict(\n",
    "        orientation='h',\n",
    "        x=0,\n",
    "        y=1.1\n",
    "    ),\n",
    "    autosize=True,\n",
    "    margin=dict(l=40, r=40, t=80, b=40),\n",
    ")\n",
    "\n",
    "# Create state of charge figure\n",
    "fig_soc = go.Figure()\n",
    "fig_soc.add_trace(go.Scatter(x=result_df.index[start_time:end_time], y=result_df['soc_percent']*100, mode='lines', name='net', line=dict(color='orange')))\n",
    "fig_soc.update_layout(\n",
    "    title='State of Charge',\n",
    "    xaxis_title='Time',\n",
    "    yaxis_title='SOC (%)',\n",
    "    legend=dict(\n",
    "        orientation='h',\n",
    "        x=0,\n",
    "        y=1.1\n",
    "    ),\n",
    "    autosize=True,\n",
    "    margin=dict(l=40, r=40, t=80, b=40),\n",
    ")\n",
    "\n",
    "# Generate HTML snippets for each figure\n",
    "price_html = pio.to_html(fig_price, full_html=False)\n",
    "charge_discharge_html = pio.to_html(fig_charge_discharge, full_html=False)\n",
    "soc_html = pio.to_html(fig_soc, full_html=False)\n",
    "\n",
    "# Combine all HTML snippets into a single HTML document\n",
    "full_html = f\"\"\"\n",
    "<!DOCTYPE html>\n",
    "<html>\n",
    "<head>\n",
    "    <meta charset=\"UTF-8\">\n",
    "    <title>Figures</title>\n",
    "    <script src=\"https://cdn.plot.ly/plotly-latest.min.js\"></script>\n",
    "</head>\n",
    "<body>\n",
    "    <h1>Price Figure</h1>\n",
    "    {price_html}\n",
    "    <h1>Charging and Discharging Schedule</h1>\n",
    "    {charge_discharge_html}\n",
    "    <h1>State of Charge</h1>\n",
    "    {soc_html}\n",
    "</body>\n",
    "</html>\n",
    "\"\"\"\n",
    "\n",
    "# Save to an HTML file\n",
    "with open(\"result/day/\" + filename + \".html\", \"w\",  encoding=\"utf-8\") as file:\n",
    "    file.write(full_html)\n",
    "\n",
    "\n"
   ]
  }
 ],
 "metadata": {
  "kernelspec": {
   "display_name": "Python 3",
   "language": "python",
   "name": "python3"
  },
  "language_info": {
   "codemirror_mode": {
    "name": "ipython",
    "version": 3
   },
   "file_extension": ".py",
   "mimetype": "text/x-python",
   "name": "python",
   "nbconvert_exporter": "python",
   "pygments_lexer": "ipython3",
   "version": "3.12.0"
  }
 },
 "nbformat": 4,
 "nbformat_minor": 2
}
