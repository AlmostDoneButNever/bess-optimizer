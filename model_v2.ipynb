{
 "cells": [
  {
   "cell_type": "code",
   "execution_count": null,
   "metadata": {},
   "outputs": [],
   "source": [
    "from pyomo.environ import *\n",
    "import pandas as pd\n",
    "import numpy as np\n",
    "import matplotlib.pyplot as plt\n",
    "from scripts.data_import import data_import\n",
    "from scripts.run_optimization_model import run_model"
   ]
  },
  {
   "cell_type": "markdown",
   "metadata": {},
   "source": [
    "# Read Data"
   ]
  },
  {
   "cell_type": "code",
   "execution_count": null,
   "metadata": {},
   "outputs": [],
   "source": [
    "file = 's1'\n",
    "path = 'data/full/data_' + file + '.xlsx'\n",
    "data, basis, bess, service, revenue_change = data_import(path)\n",
    "bess['s_eff'] = 1\n"
   ]
  },
  {
   "cell_type": "code",
   "execution_count": null,
   "metadata": {},
   "outputs": [],
   "source": [
    "# bess['cap_power'] = 4\n",
    "# bess['cap_energy'] = 16\n",
    "# bess['s_eff'] = 1\n",
    "\n",
    "# data['soc_limit']['min'] = 0.1\n",
    "# data['activation']['reg'] = 0.15\n",
    "# data['activation']['reg'] = -0.15\n",
    "\n",
    "# data['activation']['reg_up'] = data['activation']['reg'].apply(lambda x: x if x > 0 else 0)\n",
    "# data['activation']['reg_down'] = data['activation']['reg'].apply(lambda x: -x if x < 0 else 0)\n",
    "\n",
    "# # data['activation']['reg_up_activated'] = 1\n",
    "# # data['activation']['reg_down_activated'] = 1\n",
    "\n",
    "# data['activation']['reg_up_activated'] = data['activation']['reg'].apply(lambda x: 1 if x > 0 else 0)\n",
    "# data['activation']['reg_down_activated'] = data['activation']['reg'].apply(lambda x: 1 if x < 0 else 0)\n",
    "\n",
    "\n",
    "# result_html_name = \"result/\" + file +\"_mipgap0.005\" + \"_p\" + str(bess['cap_power']) + \"_e\" + str(bess['cap_energy']) + \"_l2__\"\n",
    "\n"
   ]
  },
  {
   "cell_type": "markdown",
   "metadata": {},
   "source": [
    "# Model"
   ]
  },
  {
   "cell_type": "code",
   "execution_count": null,
   "metadata": {},
   "outputs": [],
   "source": [
    "def optimize_revenue(initial_soc, data_input, prices, loads, final_soc_target, cap_settings):\n",
    "\n",
    "    data, basis, bess, service = data_input\n",
    "\n",
    "    if cap_settings: \n",
    "        cap_power = cap_settings[0]\n",
    "        cap_energy = cap_settings[1]\n",
    "    else:\n",
    "        cap_power = bess['cap_power']\n",
    "        cap_energy = bess['cap_energy']\n",
    "\n",
    "    price_df = prices\n",
    "\n",
    "    if service['load'] == 1:\n",
    "        load_profile = loads.value\n",
    "\n",
    "    # Parameters\n",
    "    lamda_min = data['soc_limit']['min']\n",
    "    lamda_max = data['soc_limit']['max']\n",
    "    theta = data['schedule']\n",
    "    beta = data['activation']\n",
    "    gamma = data['reserve']\n",
    "\n",
    "    dt = basis['dt']\n",
    "\n",
    "\n",
    "    Seff = bess['s_eff']\n",
    "    Ceff = bess['c_eff']\n",
    "    Deff = bess['d_eff']\n",
    "    lamda_max_tech = bess['max_soc']\n",
    "    lamda_min_tech = bess['min_soc']\n",
    "    eta = bess['daily_cycle']\n",
    "\n",
    "    # Price Data for the day\n",
    "    total_time_period = len(price_df)\n",
    "\n",
    "    T = range(1, total_time_period + 1)\n",
    "    SOC_T = range(0, total_time_period + 1)\n",
    "\n",
    "    p_arb = price_df['arb_energy_price']\n",
    "    p_reg_up_c = price_df['reg_capacity_price']\n",
    "    p_reg_up_e = price_df['reg_energy_price']\n",
    "    p_reg_down_c = price_df['reg_down_capacity_price']\n",
    "    p_reg_down_e = price_df['reg_down_energy_price']\n",
    "    p_pres_c = price_df['pres_capacity_price']\n",
    "    p_pres_e = price_df['pres_energy_price']\n",
    "    p_cres_c = price_df['cres_capacity_price']\n",
    "    p_cres_e = price_df['cres_energy_price']\n",
    "    p_ec = price_df['ec_energy_price']\n",
    "    p_dr_c = price_df['dr_capacity_price']\n",
    "    p_dr_e = price_df['dr_energy_price']\n",
    "    p_il_c = price_df['il_capacity_price']\n",
    "    p_il_e = price_df['il_energy_price']\n",
    "\n",
    "    # Define the model\n",
    "    model = ConcreteModel()\n",
    "\n",
    "    # Variables\n",
    "    model.SOC = Var(SOC_T, within=NonNegativeReals, bounds = (0, cap_energy))\n",
    "    model.E_c = Var(T, within=NonNegativeReals, bounds = (0, cap_energy))\n",
    "    model.E_cr = Var(T, within=NonNegativeReals, bounds = (0, cap_energy))\n",
    "    model.E_d = Var(T, within=NonNegativeReals, bounds = (0, cap_energy))\n",
    "    model.E_dr = Var(T, within=NonNegativeReals, bounds = (0, cap_energy))\n",
    " \n",
    "    model.PC_arb = Var(T, within=NonNegativeReals, bounds = (0, cap_power * 2))\n",
    "    model.PD_arb = Var(T, within=NonNegativeReals, bounds = (0, cap_power * 2))\n",
    "    model.P_reg = Var(T, within=NonNegativeReals, bounds = (0, cap_power * 2))\n",
    "    model.PC_reg = Var(T, within=NonNegativeReals, bounds = (0, cap_power * 2))\n",
    "    model.PD_reg = Var(T, within=NonNegativeReals, bounds = (0, cap_power * 2))\n",
    "    model.P_pres = Var(T, within=NonNegativeReals, bounds = (0, cap_power * 2))\n",
    "    model.P_cres = Var(T, within=NonNegativeReals, bounds = (0, cap_power * 2))\n",
    "\n",
    "    model.P_ec = Var(T, within=NonNegativeReals)\n",
    "    model.PL_ec = Var(T, within=NonNegativeReals)\n",
    "    model.PC_ec = Var(T, within=NonNegativeReals, bounds = (0, cap_power * 2))\n",
    "    model.PD_L = Var(T, within=NonNegativeReals, bounds = (0, cap_power * 2))\n",
    "    model.P_dr = Var(T, within=NonNegativeReals, bounds = (0, cap_power * 2))\n",
    "    model.P_il = Var(T, within=NonNegativeReals, bounds = (0, cap_power * 2))\n",
    "\n",
    "    # model.y_ch = Var(T, within=Binary)\n",
    "    model.y_minus = Var(T, within=Binary)\n",
    "\n",
    "    model.R_arb = Var(T, within=Reals)\n",
    "    model.R_reg = Var(T, within=Reals)\n",
    "    model.R_pres = Var(T, within=Reals)\n",
    "    model.R_cres = Var(T, within=Reals)\n",
    "    model.R_ec = Var(T, within=Reals)\n",
    "    model.R_dr = Var(T, within=Reals)\n",
    "    model.R_il = Var(T, within=Reals)\n",
    "\n",
    "    # Objective function\n",
    "    model.obj = Objective(\n",
    "        expr= sum(model.R_arb[t] + model.R_reg[t] + model.R_pres[t] + model.R_cres[t] \n",
    "                  + model.R_ec[t] + model.R_dr[t] + model.R_il[t] \n",
    "                  for t in T),        \n",
    "        sense=maximize\n",
    "    )\n",
    "\n",
    "    def revenue_arbitrage_rule(model, t):\n",
    "        return model.R_arb[t] == p_arb[t]  * (model.PD_arb[t] - model.PC_arb[t]) * dt\n",
    "    model.revenue_arbitrage = Constraint(T, rule=revenue_arbitrage_rule)\n",
    "\n",
    "    def revenue_primary_reserve_rule(model, t):\n",
    "        return model.R_pres[t] == (p_pres_c[t]  * model.P_pres[t]\n",
    "                                        + p_pres_e[t] * beta['pres'][t] * model.P_pres[t]) * dt\n",
    "    model.revenue_preserve = Constraint(T, rule=revenue_primary_reserve_rule)\n",
    "\n",
    "    def revenue_contingency_reserve_rule(model, t):\n",
    "        return model.R_cres[t] == (p_cres_c[t]  * model.P_cres[t]\n",
    "                                        + p_cres_e[t] * beta['cres'][t] * model.P_cres[t]) * dt\n",
    "    model.revenue_creserve = Constraint(T, rule=revenue_contingency_reserve_rule)\n",
    "\n",
    "    if service['reg_symmetric'] == 1:\n",
    "        def reg_constraint_rule(model, t):\n",
    "            return model.P_reg[t] == model.PC_reg[t]  + model.PD_reg[t] \n",
    "        model.reg_up_down = Constraint(T, rule=reg_constraint_rule)\n",
    "\n",
    "        def revenue_regulation_rule(model, t):\n",
    "            return model.R_reg[t] == (p_reg_up_c[t]  * model.P_reg[t]\n",
    "                                            + p_reg_up_e[t] * beta['reg'][t] * model.P_reg[t]) * dt\n",
    "        model.revenue_regulation = Constraint(T, rule=revenue_regulation_rule)\n",
    "\n",
    "    else:\n",
    "\n",
    "        def revenue_regulation_rule(model, t):\n",
    "            return model.R_reg[t] == (p_reg_up_c[t]  * model.PD_reg[t] * beta['reg_up_activated'][t] \n",
    "                                            + p_reg_down_c[t]  * model.PC_reg[t] * beta['reg_down_activated'][t]\n",
    "                                            + p_reg_up_e[t] * beta['reg_up'][t] * model.PD_reg[t]\n",
    "                                            - p_reg_down_e[t] * beta['reg_down'][t] * model.PC_reg[t]\n",
    "                                            ) * dt\n",
    "        model.revenue_regulation = Constraint(T, rule=revenue_regulation_rule)\n",
    "\n",
    "\n",
    "    def revenue_energy_charge_rule(model, t):\n",
    "        if service['load'] == 1:\n",
    "            return model.R_ec[t] == p_ec[t]  * (load_profile[t] - model.P_ec[t] * dt) \n",
    "        else:\n",
    "            return model.R_ec[t] == 0\n",
    "    model.revenue_energy_charge = Constraint(T, rule=revenue_energy_charge_rule)\n",
    "\n",
    "    def revenue_demand_response_rule(model, t):\n",
    "        return model.R_dr[t] == (p_dr_c[t]  * model.P_dr[t]\n",
    "                                        + p_dr_e[t] * beta['dr'][t] * model.P_dr[t]) * dt\n",
    "    model.revenue_demand_response = Constraint(T, rule=revenue_demand_response_rule)\n",
    "\n",
    "    def revenue_interruptible_load_rule(model, t):\n",
    "        return model.R_il[t] == (p_il_c[t]  * model.P_il[t]\n",
    "                                        + p_il_e[t] * beta['il'][t] * model.P_il[t]) * dt\n",
    "    model.revenue_interruptible_load = Constraint(T, rule=revenue_interruptible_load_rule)\n",
    "\n",
    "\n",
    "    # Power balance\n",
    "    def total_charge_rule(model, t):\n",
    "        return model.PC_arb[t] + model.PC_reg[t] + model.PC_ec[t]  <= cap_power * model.y_minus[t]\n",
    "    model.total_charge = Constraint(T, rule=total_charge_rule)\n",
    "\n",
    "    def total_discharge_rule(model, t):\n",
    "        return model.PD_arb[t] +  model.PD_reg[t] + model.P_pres[t] +  model.P_cres[t] \\\n",
    "                    + model.PD_L[t] + model.P_dr[t] +  model.P_il[t] <= cap_power * (1 - model.y_minus[t])\n",
    "    model.total_discharge = Constraint(T, rule=total_discharge_rule)\n",
    "\n",
    "    # Power balance for BTM services\n",
    "    def total_grid_power_rule(model, t):\n",
    "        return model.P_ec[t] == model.PL_ec[t] + model.PC_ec[t]\n",
    "    model.total_grid_power = Constraint(T, rule=total_grid_power_rule)\n",
    "\n",
    "    if service['load'] == 1:\n",
    "        def total_load_balance_rule(model, t):\n",
    "            return (model.PL_ec[t] +  model.PD_L[t] + beta['dr'][t] * model.P_dr[t] + beta['il'][t] * model.P_il[t]) * dt == load_profile[t]\n",
    "        model.total_load_balance = Constraint(T, rule=total_load_balance_rule)\n",
    "\n",
    "    # Energy balance\n",
    "    \n",
    "    def energy_discharge_rule(model, t):\n",
    "        return model.E_d[t] == (model.PD_arb[t] + model.PD_L[t]\n",
    "                                + beta['reg_up'][t] * model.PD_reg[t]\n",
    "                                + beta['pres'][t] * model.P_pres[t]\n",
    "                                + beta['cres'][t] * model.P_cres[t]\n",
    "                                + beta['dr'][t] * model.P_dr[t]\n",
    "                                + beta['il'][t] * model.P_il[t]\n",
    "                                ) * dt\n",
    "    model.energy_discharge = Constraint(T, rule=energy_discharge_rule)\n",
    "\n",
    "    def energy_discharge_reserve_rule(model, t):\n",
    "        return model.E_dr[t] == (\n",
    "                                   (gamma['reg'][t] - beta['reg_up'][t]) * model.PD_reg[t]\n",
    "                                +  (gamma['pres'][t] - beta['pres'][t]) * model.P_pres[t]\n",
    "                                +  (gamma['cres'][t] - beta['cres'][t]) * model.P_cres[t]\n",
    "                                +  (gamma['dr'][t] - beta['dr'][t]) * model.P_dr[t]\n",
    "                                +  (gamma['il'][t] - beta['il'][t]) * model.P_il[t]\n",
    "                                ) * dt\n",
    "    model.energy_discharge_reserve = Constraint(T, rule=energy_discharge_reserve_rule)\n",
    "\n",
    "    def energy_charge_rule(model, t):\n",
    "        return model.E_c[t] == (model.PC_arb[t]  \n",
    "                                + beta['reg_down'][t] * model.PC_reg[t]\n",
    "                                + model.PC_ec[t]  \n",
    "                                ) * dt\n",
    "    model.energy_charge = Constraint(T, rule=energy_charge_rule)\n",
    "\n",
    "    def energy_charge_reserve_rule(model, t):\n",
    "        return model.E_cr[t] == ((gamma['reg'][t] - beta['reg_down'][t]) * model.PC_reg[t]) * dt\n",
    "    model.energy_charge_reserve = Constraint(T, rule=energy_charge_reserve_rule)\n",
    "\n",
    "\n",
    "    def soc_constraints(model, t):\n",
    "        if t == 0:\n",
    "            return model.SOC[t] == initial_soc\n",
    "        else:\n",
    "            return model.SOC[t] == model.SOC[t-1] * Seff + model.E_c[t] * Ceff - model.E_d[t]/Deff\n",
    "    model.SOC_constraints = Constraint(SOC_T, rule=soc_constraints)\n",
    "\n",
    "    def soc_lower_limit_constraint(model, t):\n",
    "        return model.SOC[t] - model.E_dr[t]/Deff >= cap_energy * lamda_min[t]\n",
    "    model.SOC_lower_limit = Constraint(T, rule=soc_lower_limit_constraint)\n",
    "\n",
    "    def soc_upper_limit_constraint(model, t):\n",
    "        return model.SOC[t] + model.E_cr[t] * Ceff <= cap_energy * lamda_max[t]\n",
    "    model.SOC_upper_limit = Constraint(T, rule=soc_upper_limit_constraint)\n",
    "\n",
    "    if final_soc_target:\n",
    "        def soc_final_state_constraint(model):\n",
    "            end_t = SOC_T[-1]\n",
    "            return model.SOC[end_t] == bess['initial_soc'] * cap_energy\n",
    "        model.SOC_final = Constraint(rule=soc_final_state_constraint)\n",
    "\n",
    "\n",
    "    # Cycle limits\n",
    "\n",
    "    if service['reg_activate'] != 1:\n",
    "\n",
    "        def cycle_charge_constraint(model):\n",
    "            return sum(model.PC_arb[t] + model.PC_ec[t] +  model.PC_reg[t] * gamma['reg'][t] for t in T)*dt <= eta * cap_energy * (lamda_max_tech - lamda_min_tech)\n",
    "        model.cycle_charge = Constraint(rule=cycle_charge_constraint)\n",
    "\n",
    "        def cycle_discharge_constraint(model):\n",
    "            return sum(model.PD_arb[t] + model.PD_L[t] + model.PD_reg[t] * gamma['reg'][t] for t in T)*dt <= eta * cap_energy * (lamda_max_tech - lamda_min_tech)\n",
    "        model.cycle_discharge = Constraint(rule=cycle_discharge_constraint)\n",
    "\n",
    "    else:\n",
    "\n",
    "        def cycle_charge_constraint(model):\n",
    "            return sum(model.PC_arb[t] + model.PC_ec[t] +  model.PC_reg[t] * beta['reg_down'][t] for t in T)*dt <= eta * cap_energy * (lamda_max_tech - lamda_min_tech)\n",
    "        model.cycle_charge = Constraint(rule=cycle_charge_constraint)\n",
    "\n",
    "        def cycle_discharge_constraint(model):\n",
    "            return sum(model.PD_arb[t] + model.PD_L[t] + model.PD_reg[t] * beta['reg_up'][t] for t in T)*dt <= eta * cap_energy * (lamda_max_tech - lamda_min_tech)\n",
    "        model.cycle_discharge = Constraint(rule=cycle_discharge_constraint)\n",
    "\n",
    "\n",
    "    # Service availability\n",
    "\n",
    "    def arbitrage_availability_rule(model, t):\n",
    "        return model.PC_arb[t] + model.PD_arb[t] <= cap_power * service['arb'] * theta['arb'].loc[t] * 999999\n",
    "    model.arbitrage_availability = Constraint(T, rule=arbitrage_availability_rule)\n",
    "\n",
    "    def regulation_availability_rule(model, t):\n",
    "        return model.PC_reg[t] + model.PD_reg[t] <= cap_power * service['reg'] * theta['reg'].loc[t] * 999999\n",
    "    model.regulation_availability = Constraint(T, rule=regulation_availability_rule)\n",
    "\n",
    "    def preserve_availability_rule(model, t):\n",
    "        return model.P_pres[t] <= cap_power * service['pres'] * theta['pres'].loc[t] * 999999\n",
    "    model.preserve_availability = Constraint(T, rule=preserve_availability_rule)\n",
    "\n",
    "    def creserve_availability_rule(model, t):\n",
    "        return model.P_cres[t] <= cap_power * service['cres'] * theta['cres'].loc[t] * 999999\n",
    "    model.creserve_availability = Constraint(T, rule=creserve_availability_rule)\n",
    "\n",
    "    def energy_charge_availability_rule(model, t):\n",
    "        return model.P_ec[t] <= cap_power * service['ec'] * theta['ec'].loc[t] * 999999\n",
    "    model.energy_charge_availability = Constraint(T, rule=energy_charge_availability_rule)\n",
    "\n",
    "    def demand_response_availability_rule(model, t):\n",
    "        return model.P_dr[t] <= cap_power * service['dr'] * theta['dr'].loc[t] * 999999\n",
    "    model.demand_response_availability = Constraint(T, rule=demand_response_availability_rule)\n",
    "\n",
    "    def interruptible_load_availability_rule(model, t):\n",
    "        return model.P_il[t] <= cap_power * service['il'] * theta['il'].loc[t] * 999999\n",
    "    model.interruptible_load_availability = Constraint(T, rule=interruptible_load_availability_rule)\n",
    "\n",
    "\n",
    "    # Solve the model\n",
    "    solver = SolverFactory('glpk')\n",
    "    solver.options['mipgap'] = 0.005  \n",
    "    solver.options['tmlim'] = 10\n",
    "\n",
    "    solver.solve(model, tee=True)\n",
    "\n",
    "    schedule_dict = {}\n",
    "    revenue_dict = {}\n",
    "\n",
    "    # Extract results for charging, discharging, and SOC\n",
    "    schedule_dict['arb_charge'] = [model.PC_arb[t].value for t in T]  \n",
    "    schedule_dict['arb_discharge'] = [model.PD_arb[t].value for t in T]\n",
    "    schedule_dict['reg_down'] = [model.PC_reg[t].value for t in T] \n",
    "    schedule_dict['reg_up'] = [model.PD_reg[t].value for t in T]  \n",
    "    schedule_dict['pres'] = [model.P_pres[t].value for t in T]  \n",
    "    schedule_dict['cres'] = [model.P_cres[t].value for t in T]  \n",
    "    schedule_dict['dr'] = [model.P_dr[t].value for t in T] \n",
    "    schedule_dict['il'] = [model.P_il[t].value for t in T] \n",
    "    schedule_dict['grid_purchase'] = [model.P_ec[t].value for t in T]  \n",
    "    schedule_dict['grid_to_storage'] = [model.PC_ec[t].value for t in T]  \n",
    "    schedule_dict['grid_to_load'] = [model.PL_ec[t].value for t in T] \n",
    "    schedule_dict['storage_to_load'] = [model.PD_L[t].value for t in T]  \n",
    "    schedule_dict['soc'] = [model.SOC[t].value for t in SOC_T]  \n",
    "\n",
    "    revenue_dict['arb'] =  [model.R_arb[t]() for t in T] \n",
    "    revenue_dict['reg'] = [model.R_reg[t]() for t in T ]\n",
    "    revenue_dict['pres'] = [model.R_pres[t]() for t in T ]\n",
    "    revenue_dict['cres'] = [model.R_cres[t]() for t in T] \n",
    "    revenue_dict['dr'] = [model.R_dr[t]() for t in T ]\n",
    "    revenue_dict['il'] = [model.R_il[t]() for t in T ]\n",
    "    revenue_dict['ec'] = [model.R_ec[t]() for t in T]\n",
    "\n",
    "    # Return the results and final SOC\n",
    "    return model, model.obj(), schedule_dict, revenue_dict"
   ]
  },
  {
   "cell_type": "markdown",
   "metadata": {},
   "source": [
    "# RUN"
   ]
  },
  {
   "cell_type": "code",
   "execution_count": null,
   "metadata": {},
   "outputs": [],
   "source": [
    "power_range = list(range(1, 8))\n",
    "energy_range = list(range(1, 17))\n",
    "\n",
    "econs_sens_keys = []\n",
    "econs_sens_values = []\n",
    "\n",
    "for power in power_range:\n",
    "    for energy in energy_range:\n",
    "\n",
    "        power_target = power\n",
    "        energy_target = energy\n",
    "\n",
    "        print(\"Solving: \", power_target, energy_target)\n",
    "\n",
    "        bess['cap_power'] = power_target\n",
    "        bess['cap_energy'] = energy_target\n",
    "\n",
    "        # packaged_data = [data, basis, bess, service] \n",
    "\n",
    "        # annual_revenue, result_df, revenue_df, financial_metrics = run_model(packaged_data, result_html_name = [])\n",
    "\n",
    "        # [NPV, ROI, IRR, BCR, PP] = financial_metrics\n",
    "\n",
    "        econs_sens_keys.append([power_target, energy_target])\n",
    "        # econs_sens_values.append([annual_revenue] + financial_metrics)\n"
   ]
  },
  {
   "cell_type": "code",
   "execution_count": null,
   "metadata": {},
   "outputs": [],
   "source": [
    "df = pd.DataFrame(index = pd.MultiIndex.from_tuples(econs_sens_keys, names = ['Power', 'Energy']), data = econs_sens_values, columns = ['annual_revenue', 'NPV', 'ROI', 'IRR', 'BCR', 'PP'])\n",
    "df['annual_revenue_per_kw'] = df['annual_revenue']/df.index.get_level_values(0)/1000\n",
    "df = df.reset_index()\n",
    "df['Energy'] = (df['Energy'] * 0.5) * df['Power']\n",
    "df = df.set_index(['Power', 'Energy'])"
   ]
  },
  {
   "cell_type": "code",
   "execution_count": null,
   "metadata": {},
   "outputs": [],
   "source": [
    "pivot_df = df.pivot(index=\"Energy\", columns=\"Power\", values=\"ROI\") * 100\n",
    "pivot_df"
   ]
  },
  {
   "cell_type": "code",
   "execution_count": null,
   "metadata": {},
   "outputs": [],
   "source": [
    "import plotly.graph_objects as go\n",
    "\n",
    "# Data for the heatmap\n",
    "z = pivot_df.values\n",
    "x = pivot_df.columns\n",
    "y = pivot_df.index\n",
    "\n",
    "# Creating the heatmap\n",
    "fig = go.Figure(data=go.Heatmap(\n",
    "    z=z,\n",
    "    x=x,\n",
    "    y=y,\n",
    "    colorscale='RdBu',\n",
    "    reversescale=True,  \n",
    "    colorbar=dict(title='')\n",
    "))\n",
    "\n",
    "# Adding titles and labels\n",
    "fig.update_layout(\n",
    "    # title='Heatmap of ROI with varying Power and Energy (Reversed Energy Axis)',\n",
    "    xaxis=dict(title='Power'),\n",
    "    yaxis=dict(title='Energy')\n",
    ")\n",
    "\n",
    "# Display the figure\n",
    "fig.show()\n"
   ]
  },
  {
   "cell_type": "code",
   "execution_count": 11,
   "metadata": {},
   "outputs": [
    {
     "data": {
      "application/vnd.plotly.v1+json": {
       "config": {
        "plotlyServerURL": "https://plot.ly"
       },
       "data": [
        {
         "colorbar": {
          "title": {
           "text": "ROI (%)"
          }
         },
         "colorscale": [
          [
           0,
           "rgb(103,0,31)"
          ],
          [
           0.1,
           "rgb(178,24,43)"
          ],
          [
           0.2,
           "rgb(214,96,77)"
          ],
          [
           0.3,
           "rgb(244,165,130)"
          ],
          [
           0.4,
           "rgb(253,219,199)"
          ],
          [
           0.5,
           "rgb(247,247,247)"
          ],
          [
           0.6,
           "rgb(209,229,240)"
          ],
          [
           0.7,
           "rgb(146,197,222)"
          ],
          [
           0.8,
           "rgb(67,147,195)"
          ],
          [
           0.9,
           "rgb(33,102,172)"
          ],
          [
           1,
           "rgb(5,48,97)"
          ]
         ],
         "reversescale": true,
         "type": "heatmap",
         "x": [
          1,
          2,
          3,
          4
         ],
         "y": [
          1,
          2,
          3,
          4
         ],
         "z": [
          [
           211.76,
           205.44,
           177.62,
           147.65
          ],
          [
           152.64,
           211.78,
           215.25,
           205.27
          ],
          [
           101.01,
           184.48,
           211.71,
           215.74
          ],
          [
           66.69,
           152.63,
           195.6,
           211.73
          ]
         ],
         "zmax": 215.74,
         "zmin": 66.69
        },
        {
         "contours": {
          "coloring": "lines",
          "labelfont": {
           "color": "black",
           "size": 12
          },
          "showlabels": true
         },
         "line": {
          "color": "black",
          "width": 2
         },
         "showscale": false,
         "type": "contour",
         "x": [
          1,
          2,
          3,
          4
         ],
         "y": [
          1,
          2,
          3,
          4
         ],
         "z": [
          [
           1,
           0.5,
           0.3333333333333333,
           0.25
          ],
          [
           2,
           1,
           0.6666666666666666,
           0.5
          ],
          [
           3,
           1.5,
           1,
           0.75
          ],
          [
           4,
           2,
           1.3333333333333333,
           1
          ]
         ]
        }
       ],
       "layout": {
        "template": {
         "data": {
          "bar": [
           {
            "error_x": {
             "color": "#2a3f5f"
            },
            "error_y": {
             "color": "#2a3f5f"
            },
            "marker": {
             "line": {
              "color": "#E5ECF6",
              "width": 0.5
             },
             "pattern": {
              "fillmode": "overlay",
              "size": 10,
              "solidity": 0.2
             }
            },
            "type": "bar"
           }
          ],
          "barpolar": [
           {
            "marker": {
             "line": {
              "color": "#E5ECF6",
              "width": 0.5
             },
             "pattern": {
              "fillmode": "overlay",
              "size": 10,
              "solidity": 0.2
             }
            },
            "type": "barpolar"
           }
          ],
          "carpet": [
           {
            "aaxis": {
             "endlinecolor": "#2a3f5f",
             "gridcolor": "white",
             "linecolor": "white",
             "minorgridcolor": "white",
             "startlinecolor": "#2a3f5f"
            },
            "baxis": {
             "endlinecolor": "#2a3f5f",
             "gridcolor": "white",
             "linecolor": "white",
             "minorgridcolor": "white",
             "startlinecolor": "#2a3f5f"
            },
            "type": "carpet"
           }
          ],
          "choropleth": [
           {
            "colorbar": {
             "outlinewidth": 0,
             "ticks": ""
            },
            "type": "choropleth"
           }
          ],
          "contour": [
           {
            "colorbar": {
             "outlinewidth": 0,
             "ticks": ""
            },
            "colorscale": [
             [
              0,
              "#0d0887"
             ],
             [
              0.1111111111111111,
              "#46039f"
             ],
             [
              0.2222222222222222,
              "#7201a8"
             ],
             [
              0.3333333333333333,
              "#9c179e"
             ],
             [
              0.4444444444444444,
              "#bd3786"
             ],
             [
              0.5555555555555556,
              "#d8576b"
             ],
             [
              0.6666666666666666,
              "#ed7953"
             ],
             [
              0.7777777777777778,
              "#fb9f3a"
             ],
             [
              0.8888888888888888,
              "#fdca26"
             ],
             [
              1,
              "#f0f921"
             ]
            ],
            "type": "contour"
           }
          ],
          "contourcarpet": [
           {
            "colorbar": {
             "outlinewidth": 0,
             "ticks": ""
            },
            "type": "contourcarpet"
           }
          ],
          "heatmap": [
           {
            "colorbar": {
             "outlinewidth": 0,
             "ticks": ""
            },
            "colorscale": [
             [
              0,
              "#0d0887"
             ],
             [
              0.1111111111111111,
              "#46039f"
             ],
             [
              0.2222222222222222,
              "#7201a8"
             ],
             [
              0.3333333333333333,
              "#9c179e"
             ],
             [
              0.4444444444444444,
              "#bd3786"
             ],
             [
              0.5555555555555556,
              "#d8576b"
             ],
             [
              0.6666666666666666,
              "#ed7953"
             ],
             [
              0.7777777777777778,
              "#fb9f3a"
             ],
             [
              0.8888888888888888,
              "#fdca26"
             ],
             [
              1,
              "#f0f921"
             ]
            ],
            "type": "heatmap"
           }
          ],
          "heatmapgl": [
           {
            "colorbar": {
             "outlinewidth": 0,
             "ticks": ""
            },
            "colorscale": [
             [
              0,
              "#0d0887"
             ],
             [
              0.1111111111111111,
              "#46039f"
             ],
             [
              0.2222222222222222,
              "#7201a8"
             ],
             [
              0.3333333333333333,
              "#9c179e"
             ],
             [
              0.4444444444444444,
              "#bd3786"
             ],
             [
              0.5555555555555556,
              "#d8576b"
             ],
             [
              0.6666666666666666,
              "#ed7953"
             ],
             [
              0.7777777777777778,
              "#fb9f3a"
             ],
             [
              0.8888888888888888,
              "#fdca26"
             ],
             [
              1,
              "#f0f921"
             ]
            ],
            "type": "heatmapgl"
           }
          ],
          "histogram": [
           {
            "marker": {
             "pattern": {
              "fillmode": "overlay",
              "size": 10,
              "solidity": 0.2
             }
            },
            "type": "histogram"
           }
          ],
          "histogram2d": [
           {
            "colorbar": {
             "outlinewidth": 0,
             "ticks": ""
            },
            "colorscale": [
             [
              0,
              "#0d0887"
             ],
             [
              0.1111111111111111,
              "#46039f"
             ],
             [
              0.2222222222222222,
              "#7201a8"
             ],
             [
              0.3333333333333333,
              "#9c179e"
             ],
             [
              0.4444444444444444,
              "#bd3786"
             ],
             [
              0.5555555555555556,
              "#d8576b"
             ],
             [
              0.6666666666666666,
              "#ed7953"
             ],
             [
              0.7777777777777778,
              "#fb9f3a"
             ],
             [
              0.8888888888888888,
              "#fdca26"
             ],
             [
              1,
              "#f0f921"
             ]
            ],
            "type": "histogram2d"
           }
          ],
          "histogram2dcontour": [
           {
            "colorbar": {
             "outlinewidth": 0,
             "ticks": ""
            },
            "colorscale": [
             [
              0,
              "#0d0887"
             ],
             [
              0.1111111111111111,
              "#46039f"
             ],
             [
              0.2222222222222222,
              "#7201a8"
             ],
             [
              0.3333333333333333,
              "#9c179e"
             ],
             [
              0.4444444444444444,
              "#bd3786"
             ],
             [
              0.5555555555555556,
              "#d8576b"
             ],
             [
              0.6666666666666666,
              "#ed7953"
             ],
             [
              0.7777777777777778,
              "#fb9f3a"
             ],
             [
              0.8888888888888888,
              "#fdca26"
             ],
             [
              1,
              "#f0f921"
             ]
            ],
            "type": "histogram2dcontour"
           }
          ],
          "mesh3d": [
           {
            "colorbar": {
             "outlinewidth": 0,
             "ticks": ""
            },
            "type": "mesh3d"
           }
          ],
          "parcoords": [
           {
            "line": {
             "colorbar": {
              "outlinewidth": 0,
              "ticks": ""
             }
            },
            "type": "parcoords"
           }
          ],
          "pie": [
           {
            "automargin": true,
            "type": "pie"
           }
          ],
          "scatter": [
           {
            "fillpattern": {
             "fillmode": "overlay",
             "size": 10,
             "solidity": 0.2
            },
            "type": "scatter"
           }
          ],
          "scatter3d": [
           {
            "line": {
             "colorbar": {
              "outlinewidth": 0,
              "ticks": ""
             }
            },
            "marker": {
             "colorbar": {
              "outlinewidth": 0,
              "ticks": ""
             }
            },
            "type": "scatter3d"
           }
          ],
          "scattercarpet": [
           {
            "marker": {
             "colorbar": {
              "outlinewidth": 0,
              "ticks": ""
             }
            },
            "type": "scattercarpet"
           }
          ],
          "scattergeo": [
           {
            "marker": {
             "colorbar": {
              "outlinewidth": 0,
              "ticks": ""
             }
            },
            "type": "scattergeo"
           }
          ],
          "scattergl": [
           {
            "marker": {
             "colorbar": {
              "outlinewidth": 0,
              "ticks": ""
             }
            },
            "type": "scattergl"
           }
          ],
          "scattermapbox": [
           {
            "marker": {
             "colorbar": {
              "outlinewidth": 0,
              "ticks": ""
             }
            },
            "type": "scattermapbox"
           }
          ],
          "scatterpolar": [
           {
            "marker": {
             "colorbar": {
              "outlinewidth": 0,
              "ticks": ""
             }
            },
            "type": "scatterpolar"
           }
          ],
          "scatterpolargl": [
           {
            "marker": {
             "colorbar": {
              "outlinewidth": 0,
              "ticks": ""
             }
            },
            "type": "scatterpolargl"
           }
          ],
          "scatterternary": [
           {
            "marker": {
             "colorbar": {
              "outlinewidth": 0,
              "ticks": ""
             }
            },
            "type": "scatterternary"
           }
          ],
          "surface": [
           {
            "colorbar": {
             "outlinewidth": 0,
             "ticks": ""
            },
            "colorscale": [
             [
              0,
              "#0d0887"
             ],
             [
              0.1111111111111111,
              "#46039f"
             ],
             [
              0.2222222222222222,
              "#7201a8"
             ],
             [
              0.3333333333333333,
              "#9c179e"
             ],
             [
              0.4444444444444444,
              "#bd3786"
             ],
             [
              0.5555555555555556,
              "#d8576b"
             ],
             [
              0.6666666666666666,
              "#ed7953"
             ],
             [
              0.7777777777777778,
              "#fb9f3a"
             ],
             [
              0.8888888888888888,
              "#fdca26"
             ],
             [
              1,
              "#f0f921"
             ]
            ],
            "type": "surface"
           }
          ],
          "table": [
           {
            "cells": {
             "fill": {
              "color": "#EBF0F8"
             },
             "line": {
              "color": "white"
             }
            },
            "header": {
             "fill": {
              "color": "#C8D4E3"
             },
             "line": {
              "color": "white"
             }
            },
            "type": "table"
           }
          ]
         },
         "layout": {
          "annotationdefaults": {
           "arrowcolor": "#2a3f5f",
           "arrowhead": 0,
           "arrowwidth": 1
          },
          "autotypenumbers": "strict",
          "coloraxis": {
           "colorbar": {
            "outlinewidth": 0,
            "ticks": ""
           }
          },
          "colorscale": {
           "diverging": [
            [
             0,
             "#8e0152"
            ],
            [
             0.1,
             "#c51b7d"
            ],
            [
             0.2,
             "#de77ae"
            ],
            [
             0.3,
             "#f1b6da"
            ],
            [
             0.4,
             "#fde0ef"
            ],
            [
             0.5,
             "#f7f7f7"
            ],
            [
             0.6,
             "#e6f5d0"
            ],
            [
             0.7,
             "#b8e186"
            ],
            [
             0.8,
             "#7fbc41"
            ],
            [
             0.9,
             "#4d9221"
            ],
            [
             1,
             "#276419"
            ]
           ],
           "sequential": [
            [
             0,
             "#0d0887"
            ],
            [
             0.1111111111111111,
             "#46039f"
            ],
            [
             0.2222222222222222,
             "#7201a8"
            ],
            [
             0.3333333333333333,
             "#9c179e"
            ],
            [
             0.4444444444444444,
             "#bd3786"
            ],
            [
             0.5555555555555556,
             "#d8576b"
            ],
            [
             0.6666666666666666,
             "#ed7953"
            ],
            [
             0.7777777777777778,
             "#fb9f3a"
            ],
            [
             0.8888888888888888,
             "#fdca26"
            ],
            [
             1,
             "#f0f921"
            ]
           ],
           "sequentialminus": [
            [
             0,
             "#0d0887"
            ],
            [
             0.1111111111111111,
             "#46039f"
            ],
            [
             0.2222222222222222,
             "#7201a8"
            ],
            [
             0.3333333333333333,
             "#9c179e"
            ],
            [
             0.4444444444444444,
             "#bd3786"
            ],
            [
             0.5555555555555556,
             "#d8576b"
            ],
            [
             0.6666666666666666,
             "#ed7953"
            ],
            [
             0.7777777777777778,
             "#fb9f3a"
            ],
            [
             0.8888888888888888,
             "#fdca26"
            ],
            [
             1,
             "#f0f921"
            ]
           ]
          },
          "colorway": [
           "#636efa",
           "#EF553B",
           "#00cc96",
           "#ab63fa",
           "#FFA15A",
           "#19d3f3",
           "#FF6692",
           "#B6E880",
           "#FF97FF",
           "#FECB52"
          ],
          "font": {
           "color": "#2a3f5f"
          },
          "geo": {
           "bgcolor": "white",
           "lakecolor": "white",
           "landcolor": "#E5ECF6",
           "showlakes": true,
           "showland": true,
           "subunitcolor": "white"
          },
          "hoverlabel": {
           "align": "left"
          },
          "hovermode": "closest",
          "mapbox": {
           "style": "light"
          },
          "paper_bgcolor": "white",
          "plot_bgcolor": "#E5ECF6",
          "polar": {
           "angularaxis": {
            "gridcolor": "white",
            "linecolor": "white",
            "ticks": ""
           },
           "bgcolor": "#E5ECF6",
           "radialaxis": {
            "gridcolor": "white",
            "linecolor": "white",
            "ticks": ""
           }
          },
          "scene": {
           "xaxis": {
            "backgroundcolor": "#E5ECF6",
            "gridcolor": "white",
            "gridwidth": 2,
            "linecolor": "white",
            "showbackground": true,
            "ticks": "",
            "zerolinecolor": "white"
           },
           "yaxis": {
            "backgroundcolor": "#E5ECF6",
            "gridcolor": "white",
            "gridwidth": 2,
            "linecolor": "white",
            "showbackground": true,
            "ticks": "",
            "zerolinecolor": "white"
           },
           "zaxis": {
            "backgroundcolor": "#E5ECF6",
            "gridcolor": "white",
            "gridwidth": 2,
            "linecolor": "white",
            "showbackground": true,
            "ticks": "",
            "zerolinecolor": "white"
           }
          },
          "shapedefaults": {
           "line": {
            "color": "#2a3f5f"
           }
          },
          "ternary": {
           "aaxis": {
            "gridcolor": "white",
            "linecolor": "white",
            "ticks": ""
           },
           "baxis": {
            "gridcolor": "white",
            "linecolor": "white",
            "ticks": ""
           },
           "bgcolor": "#E5ECF6",
           "caxis": {
            "gridcolor": "white",
            "linecolor": "white",
            "ticks": ""
           }
          },
          "title": {
           "x": 0.05
          },
          "xaxis": {
           "automargin": true,
           "gridcolor": "white",
           "linecolor": "white",
           "ticks": "",
           "title": {
            "standoff": 15
           },
           "zerolinecolor": "white",
           "zerolinewidth": 2
          },
          "yaxis": {
           "automargin": true,
           "gridcolor": "white",
           "linecolor": "white",
           "ticks": "",
           "title": {
            "standoff": 15
           },
           "zerolinecolor": "white",
           "zerolinewidth": 2
          }
         }
        },
        "title": {
         "text": "Heatmap of ROI with Energy/Power Ratio Contour Lines"
        },
        "xaxis": {
         "range": [
          1,
          4
         ],
         "title": {
          "text": "Power"
         }
        },
        "yaxis": {
         "range": [
          1,
          4
         ],
         "title": {
          "text": "Energy"
         }
        }
       }
      }
     },
     "metadata": {},
     "output_type": "display_data"
    }
   ],
   "source": [
    "import pandas as pd\n",
    "import numpy as np\n",
    "import plotly.graph_objects as go\n",
    "\n",
    "# Calculating Energy/Power ratio for the contour plot\n",
    "df['Ratio'] = df['Energy'] / df['Power']\n",
    "pivot_ratio = df.pivot(index=\"Energy\", columns=\"Power\", values=\"Ratio\")\n",
    "\n",
    "# Data for the heatmap\n",
    "z = pivot_df.values\n",
    "x = pivot_df.columns\n",
    "y = pivot_df.index\n",
    "\n",
    "# Creating the heatmap with contour lines\n",
    "fig = go.Figure()\n",
    "\n",
    "# Add heatmap\n",
    "fig.add_trace(go.Heatmap(\n",
    "    z=z,\n",
    "    x=x,\n",
    "    y=y,\n",
    "    colorscale='RdBu',\n",
    "    reversescale=True,  # High values red, low values blue\n",
    "    colorbar=dict(title='ROI (%)'),\n",
    "    zmin=np.min(z),  # Define the range of z for better contrast\n",
    "    zmax=np.max(z)\n",
    "))\n",
    "\n",
    "# Add contour lines for the Energy/Power ratio with text labels\n",
    "fig.add_trace(go.Contour(\n",
    "    z=pivot_ratio.values,\n",
    "    x=pivot_df.columns,\n",
    "    y=pivot_df.index,\n",
    "    showscale=False,  # Hide the scale for contour lines\n",
    "    contours=dict(\n",
    "        coloring='lines',\n",
    "        showlabels=True,  # Enable labels on contours\n",
    "        labelfont=dict(size=12, color='black'),  # Customize the font of the labels\n",
    "    ),\n",
    "    line=dict(color='black', width=2)\n",
    "))\n",
    "\n",
    "# Adding titles and labels, and setting axis ranges to start from 1\n",
    "fig.update_layout(\n",
    "    title='Heatmap of ROI with Energy/Power Ratio Contour Lines',\n",
    "    xaxis=dict(title='Power', range=[1, 4]),\n",
    "    yaxis=dict(title='Energy', range=[1, 4])\n",
    ")\n",
    "\n",
    "# Display the figure\n",
    "fig.show()\n"
   ]
  }
 ],
 "metadata": {
  "kernelspec": {
   "display_name": "Python 3",
   "language": "python",
   "name": "python3"
  },
  "language_info": {
   "codemirror_mode": {
    "name": "ipython",
    "version": 3
   },
   "file_extension": ".py",
   "mimetype": "text/x-python",
   "name": "python",
   "nbconvert_exporter": "python",
   "pygments_lexer": "ipython3",
   "version": "3.11.4"
  }
 },
 "nbformat": 4,
 "nbformat_minor": 2
}
