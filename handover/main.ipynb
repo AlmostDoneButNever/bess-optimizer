{
 "cells": [
  {
   "cell_type": "code",
   "execution_count": 1,
   "metadata": {},
   "outputs": [],
   "source": [
    "from pyomo.environ import *\n",
    "import pandas as pd\n",
    "import numpy as np\n",
    "from datetime import datetime\n",
    "import matplotlib.pyplot as plt\n",
    "import plotly.graph_objects as go\n",
    "from scripts.data_import import data_import\n",
    "from scripts.run import run_model"
   ]
  },
  {
   "cell_type": "markdown",
   "metadata": {},
   "source": [
    "# Initialization"
   ]
  },
  {
   "cell_type": "code",
   "execution_count": 2,
   "metadata": {},
   "outputs": [],
   "source": [
    "# Data extraction\n",
    "file = 's5'\n",
    "path = 'data/' + file + '.xlsx'\n",
    "data, basis, bess, service, revenue_change = data_import(path)"
   ]
  },
  {
   "cell_type": "code",
   "execution_count": 3,
   "metadata": {},
   "outputs": [],
   "source": [
    "# Optimization settings\n",
    "model_optimality_gap = 0.005     # proximity to optimal solution, 0.01 means 1% difference with the optimal solution\n",
    "model_time_limit = 10         # Maximum time limit in seconds. If 365 days data are available, the model will be solved 365 times, and the total time required = 10 x 365 = 3650s"
   ]
  },
  {
   "cell_type": "markdown",
   "metadata": {},
   "source": [
    "# Base case simulation"
   ]
  },
  {
   "cell_type": "code",
   "execution_count": 4,
   "metadata": {},
   "outputs": [],
   "source": [
    "# battery capacity settings (activate to override excel settings)\n",
    "# bess['cap_power'] = 1\n",
    "# bess['cap_energy'] = 4\n",
    "\n",
    "# Scenario analysis (activate to override excel settings)\n",
    "## To reduce the minimum soc limit\n",
    "# data['soc_limit']['min'] = 0.1\n",
    "\n",
    "## To keep 15% regulation up signal\n",
    "# service['reg_activate'] = 1\n",
    "# data['activation']['reg'] = 0.15\n",
    "# data['activation']['reg_up'] = data['activation']['reg'].apply(lambda x: x if x > 0 else 0)\n",
    "# data['activation']['reg_down'] = data['activation']['reg'].apply(lambda x: -x if x < 0 else 0)\n",
    "\n",
    "## To keep 15% regulation down signal\n",
    "service['reg_activate'] = 1\n",
    "data['activation']['reg'] = -0.15\n",
    "data['activation']['reg_up'] = data['activation']['reg'].apply(lambda x: x if x > 0 else 0)\n",
    "data['activation']['reg_down'] = data['activation']['reg'].apply(lambda x: -x if x < 0 else 0)"
   ]
  },
  {
   "cell_type": "code",
   "execution_count": null,
   "metadata": {},
   "outputs": [],
   "source": [
    "# Result file name\n",
    "current_datetime = datetime.now().strftime(\"%Y%m%d_%H%M%S\")\n",
    "result_html_name = file + \"_\" + current_datetime\n",
    "result_html_path = \"results/\" + result_html_name\n",
    "\n",
    "# Run model\n",
    "packaged_data = [data, basis, bess, service] \n",
    "annual_revenue, result_df, revenue_df, financial_metrics = run_model(packaged_data, result_html_path, model_optimality_gap = model_optimality_gap, model_time_limit = model_time_limit)\n",
    "[NPV, ROI, IRR, BCR, PP] = financial_metrics\n"
   ]
  },
  {
   "cell_type": "markdown",
   "metadata": {},
   "source": [
    "# Sensitivity analysis (multiple energy and power capacity settings)"
   ]
  },
  {
   "cell_type": "code",
   "execution_count": null,
   "metadata": {},
   "outputs": [],
   "source": [
    "power_range = [x * 0.5 for x in range(1, 3)]\n",
    "energy_range = [x * 0.5 for x in range(1, 3)]\n",
    "\n",
    "econs_sens_keys = []\n",
    "econs_sens_values = []\n",
    "\n",
    "for power_target in power_range:\n",
    "    for energy_target in energy_range:\n",
    "\n",
    "        print(\"Solving: \", power_target, energy_target)\n",
    "\n",
    "        bess['cap_power'] = power_target\n",
    "        bess['cap_energy'] = energy_target\n",
    "\n",
    "        packaged_data = [data, basis, bess, service] \n",
    "        annual_revenue, result_df, revenue_df, financial_metrics = run_model(packaged_data, result_html_path = [], model_optimality_gap = model_optimality_gap, model_time_limit = model_time_limit)\n",
    "        [NPV, ROI, IRR, BCR, PP] = financial_metrics\n",
    "\n",
    "        econs_sens_keys.append([power_target, energy_target])\n",
    "        econs_sens_values.append([annual_revenue] + financial_metrics)\n",
    "\n",
    "df = pd.DataFrame(index = pd.MultiIndex.from_tuples(econs_sens_keys, names = ['Power', 'Energy']), data = econs_sens_values, columns = ['annual_revenue', 'NPV', 'ROI', 'IRR', 'BCR', 'PP'])\n",
    "df['annual_revenue_per_kw'] = df['annual_revenue']/df.index.get_level_values(0)/1000\n",
    "df = df.reset_index()\n"
   ]
  },
  {
   "cell_type": "code",
   "execution_count": null,
   "metadata": {},
   "outputs": [],
   "source": [
    "# Export result to excel\n",
    "current_datetime = datetime.now().strftime(\"%Y%m%d_%H%M%S\")\n",
    "excel_name = \"sens_result\" + \"_\" + file + \"_\" + current_datetime\n",
    "excel_path = \"results/\" + excel_name + \".xlsx\"\n",
    "df.to_excel(excel_path)"
   ]
  },
  {
   "cell_type": "code",
   "execution_count": null,
   "metadata": {},
   "outputs": [],
   "source": [
    "# Calculating Energy/Power ratio for the contour plot\n",
    "df['Ratio'] = df['Energy'] / df['Power']\n",
    "pivot_df = df.pivot(index=\"Energy\", columns=\"Power\", values=\"ROI\") * 100\n",
    "pivot_ratio = df.pivot(index=\"Energy\", columns=\"Power\", values=\"Ratio\")\n",
    "\n",
    "# Data for the heatmap\n",
    "z = pivot_df.values\n",
    "x = pivot_df.columns\n",
    "y = pivot_df.index\n",
    "\n",
    "# Creating the heatmap with contour lines\n",
    "fig = go.Figure()\n",
    "\n",
    "# Add heatmap\n",
    "fig.add_trace(go.Heatmap(\n",
    "    z=z,\n",
    "    x=x,\n",
    "    y=y,\n",
    "    colorscale='RdBu',\n",
    "    reversescale=True,  # High values red, low values blue\n",
    "    colorbar=dict(title='ROI (%)'),\n",
    "    zmin=np.min(z),  # Define the range of z for better contrast\n",
    "    zmax=np.max(z)\n",
    "))\n",
    "\n",
    "# Add contour lines for the Energy/Power ratio with text labels\n",
    "fig.add_trace(go.Contour(\n",
    "    z=pivot_ratio.values,\n",
    "    x=pivot_df.columns,\n",
    "    y=pivot_df.index,\n",
    "    showscale=False,  # Hide the scale for contour lines\n",
    "    contours=dict(\n",
    "        coloring='lines',\n",
    "        showlabels=True,  # Enable labels on contours\n",
    "        labelfont=dict(size=12, color='black'),  # Customize the font of the labels\n",
    "        start=0.5,  # Starting value for contour lines\n",
    "        end=4,     # Ending value for contour lines\n",
    "        size=0.5   # Interval between contour lines\n",
    "    ),\n",
    "    line=dict(color='black', width=2),\n",
    "    # ncontours=50  # Increase the number of contour lines\n",
    "\n",
    "))\n",
    "\n",
    "# Adding titles and labels, and setting axis ranges to start from 1\n",
    "fig.update_layout(\n",
    "    title='Heatmap of ROI with Energy/Power Ratio Contour Lines',\n",
    "    xaxis=dict(title='Power', range=[0.5, 8]),\n",
    "    yaxis=dict(title='Energy', range=[0.5, 8])\n",
    ")\n",
    "\n",
    "# Display the figure\n",
    "fig.show()\n"
   ]
  }
 ],
 "metadata": {
  "kernelspec": {
   "display_name": ".venv",
   "language": "python",
   "name": "python3"
  },
  "language_info": {
   "codemirror_mode": {
    "name": "ipython",
    "version": 3
   },
   "file_extension": ".py",
   "mimetype": "text/x-python",
   "name": "python",
   "nbconvert_exporter": "python",
   "pygments_lexer": "ipython3",
   "version": "3.12.0"
  }
 },
 "nbformat": 4,
 "nbformat_minor": 2
}
