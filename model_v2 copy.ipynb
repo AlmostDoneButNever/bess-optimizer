{
 "cells": [
  {
   "cell_type": "code",
   "execution_count": 1,
   "metadata": {},
   "outputs": [],
   "source": [
    "from pyomo.environ import *\n",
    "import pandas as pd\n",
    "import numpy as np\n",
    "import matplotlib.pyplot as plt\n",
    "from scripts.data_import import data_import\n",
    "from scripts.run_optimization_model import run_model"
   ]
  },
  {
   "cell_type": "markdown",
   "metadata": {},
   "source": [
    "# Read Data"
   ]
  },
  {
   "cell_type": "code",
   "execution_count": 2,
   "metadata": {},
   "outputs": [],
   "source": [
    "file = 'data'\n",
    "path = 'data/' + file + '.xlsx'\n",
    "data, basis, bess, service, revenue_change = data_import(path)\n",
    "bess['s_eff'] = 1\n",
    "# bess['cap_power'] = 1000\n",
    "# bess['cap_energy'] = 1000"
   ]
  },
  {
   "cell_type": "code",
   "execution_count": 3,
   "metadata": {},
   "outputs": [],
   "source": [
    "service['arb'] = 0\n",
    "service['reg'] = 0\n",
    "service['dr'] = 0\n",
    "service['il'] = 0\n",
    "service['pres'] = 0\n",
    "service['cres'] = 0\n",
    "service['reg_symmetric'] = 1\n",
    "service['ec'] = 1\n",
    "service['load'] = 1\n",
    "\n",
    "data['schedule']['ec'] = 1"
   ]
  },
  {
   "cell_type": "code",
   "execution_count": 4,
   "metadata": {},
   "outputs": [],
   "source": [
    "packaged_data = [data, basis, bess, service] \n",
    "\n",
    "annual_revenue, result_df, revenue_df, financial_metrics = run_model(packaged_data, result_html_name = [])"
   ]
  },
  {
   "cell_type": "code",
   "execution_count": 5,
   "metadata": {},
   "outputs": [
    {
     "data": {
      "text/plain": [
       "261115.73536149022"
      ]
     },
     "execution_count": 5,
     "metadata": {},
     "output_type": "execute_result"
    }
   ],
   "source": [
    "annual_revenue"
   ]
  },
  {
   "cell_type": "code",
   "execution_count": null,
   "metadata": {},
   "outputs": [],
   "source": [
    "revenue_df"
   ]
  },
  {
   "cell_type": "code",
   "execution_count": null,
   "metadata": {},
   "outputs": [],
   "source": [
    "result_df[result_df.storage_to_load != 0]"
   ]
  },
  {
   "cell_type": "code",
   "execution_count": null,
   "metadata": {},
   "outputs": [],
   "source": [
    "annual_revenue"
   ]
  },
  {
   "cell_type": "code",
   "execution_count": null,
   "metadata": {},
   "outputs": [],
   "source": [
    "df"
   ]
  },
  {
   "cell_type": "markdown",
   "metadata": {},
   "source": [
    "# RUN"
   ]
  },
  {
   "cell_type": "code",
   "execution_count": null,
   "metadata": {},
   "outputs": [],
   "source": [
    "power_range = list(range(1, 1))\n",
    "energy_range = list(range(1, 1))\n",
    "\n",
    "econs_sens_keys = []\n",
    "econs_sens_values = []\n",
    "\n",
    "for power in power_range:\n",
    "    for energy in energy_range:\n",
    "\n",
    "        power_target = power * 0.5\n",
    "        energy_target = energy * 0.5\n",
    "\n",
    "        print(\"Solving: \", power_target, energy_target)\n",
    "\n",
    "        bess['cap_power'] = power_target\n",
    "        bess['cap_energy'] = energy_target\n",
    "\n",
    "        packaged_data = [data, basis, bess, service] \n",
    "\n",
    "        annual_revenue, result_df, revenue_df, financial_metrics = run_model(packaged_data, result_html_name = [])\n",
    "\n",
    "        [NPV, ROI, IRR, BCR, PP] = financial_metrics\n",
    "\n",
    "        econs_sens_keys.append([power_target, energy_target])\n",
    "        econs_sens_values.append([annual_revenue] + financial_metrics)\n"
   ]
  },
  {
   "cell_type": "code",
   "execution_count": 6,
   "metadata": {},
   "outputs": [],
   "source": [
    "df = pd.DataFrame(index = pd.MultiIndex.from_tuples(econs_sens_keys, names = ['Power', 'Energy']), data = econs_sens_values, columns = ['annual_revenue', 'NPV', 'ROI', 'IRR', 'BCR', 'PP'])\n",
    "df['annual_revenue_per_kw'] = df['annual_revenue']/df.index.get_level_values(0)/1000\n",
    "df = df.reset_index()\n",
    "# df['Energy'] = (df['Energy'] * 0.5) * df['Power']\n",
    "# df = df.set_index(['Power', 'Energy'])"
   ]
  },
  {
   "cell_type": "code",
   "execution_count": null,
   "metadata": {},
   "outputs": [],
   "source": [
    "pd.set_option('display.max_rows', None)\n",
    "df"
   ]
  },
  {
   "cell_type": "code",
   "execution_count": null,
   "metadata": {},
   "outputs": [],
   "source": [
    "pivot_df = df.pivot(index=\"Energy\", columns=\"Power\", values=\"annual_revenue_per_kw\") * 100\n",
    "pivot_df"
   ]
  },
  {
   "cell_type": "code",
   "execution_count": null,
   "metadata": {},
   "outputs": [],
   "source": [
    "import plotly.graph_objects as go\n",
    "\n",
    "# Data for the heatmap\n",
    "z = pivot_df.values\n",
    "x = pivot_df.columns\n",
    "y = pivot_df.index\n",
    "\n",
    "# Creating the heatmap\n",
    "fig = go.Figure(data=go.Heatmap(\n",
    "    z=z,\n",
    "    x=x,\n",
    "    y=y,\n",
    "    colorscale='RdBu',\n",
    "    reversescale=True,  \n",
    "    colorbar=dict(title='')\n",
    "))\n",
    "\n",
    "# Adding titles and labels\n",
    "fig.update_layout(\n",
    "    # title='Heatmap of ROI with varying Power and Energy (Reversed Energy Axis)',\n",
    "    xaxis=dict(title='Power'),\n",
    "    yaxis=dict(title='Energy')\n",
    ")\n",
    "\n",
    "# Display the figure\n",
    "fig.show()\n"
   ]
  },
  {
   "cell_type": "code",
   "execution_count": null,
   "metadata": {},
   "outputs": [],
   "source": [
    "import pandas as pd\n",
    "import numpy as np\n",
    "import plotly.graph_objects as go\n",
    "\n",
    "# Calculating Energy/Power ratio for the contour plot\n",
    "df['Ratio'] = df['Energy'] / df['Power']\n",
    "pivot_ratio = df.pivot(index=\"Energy\", columns=\"Power\", values=\"Ratio\")\n",
    "\n",
    "# Data for the heatmap\n",
    "z = pivot_df.values\n",
    "x = pivot_df.columns\n",
    "y = pivot_df.index\n",
    "\n",
    "# Creating the heatmap with contour lines\n",
    "fig = go.Figure()\n",
    "\n",
    "# Add heatmap\n",
    "fig.add_trace(go.Heatmap(\n",
    "    z=z,\n",
    "    x=x,\n",
    "    y=y,\n",
    "    colorscale='RdBu',\n",
    "    reversescale=True,  # High values red, low values blue\n",
    "    colorbar=dict(title='ROI (%)'),\n",
    "    zmin=np.min(z),  # Define the range of z for better contrast\n",
    "    zmax=np.max(z)\n",
    "))\n",
    "\n",
    "# Add contour lines for the Energy/Power ratio with text labels\n",
    "fig.add_trace(go.Contour(\n",
    "    z=pivot_ratio.values,\n",
    "    x=pivot_df.columns,\n",
    "    y=pivot_df.index,\n",
    "    showscale=False,  # Hide the scale for contour lines\n",
    "    contours=dict(\n",
    "        coloring='lines',\n",
    "        showlabels=True,  # Enable labels on contours\n",
    "        labelfont=dict(size=12, color='black'),  # Customize the font of the labels\n",
    "        start=0.5,  # Starting value for contour lines\n",
    "        end=4,     # Ending value for contour lines\n",
    "        size=0.5   # Interval between contour lines\n",
    "    ),\n",
    "    line=dict(color='black', width=2),\n",
    "    # ncontours=50  # Increase the number of contour lines\n",
    "\n",
    "))\n",
    "\n",
    "# Adding titles and labels, and setting axis ranges to start from 1\n",
    "fig.update_layout(\n",
    "    title='Heatmap of ROI with Energy/Power Ratio Contour Lines',\n",
    "    xaxis=dict(title='Power', range=[0.5, 8]),\n",
    "    yaxis=dict(title='Energy', range=[0.5, 8])\n",
    ")\n",
    "\n",
    "# Display the figure\n",
    "fig.show()\n"
   ]
  }
 ],
 "metadata": {
  "kernelspec": {
   "display_name": "Python 3",
   "language": "python",
   "name": "python3"
  },
  "language_info": {
   "codemirror_mode": {
    "name": "ipython",
    "version": 3
   },
   "file_extension": ".py",
   "mimetype": "text/x-python",
   "name": "python",
   "nbconvert_exporter": "python",
   "pygments_lexer": "ipython3",
   "version": "3.11.4"
  }
 },
 "nbformat": 4,
 "nbformat_minor": 2
}
