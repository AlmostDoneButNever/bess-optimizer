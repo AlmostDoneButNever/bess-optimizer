{
 "cells": [
  {
   "cell_type": "code",
   "execution_count": null,
   "metadata": {},
   "outputs": [],
   "source": [
    "from pyomo.environ import *\n",
    "import pandas as pd\n",
    "import matplotlib.pyplot as plt\n",
    "import plotly.graph_objects as go\n",
    "from dash import Dash, dcc, html\n",
    "import webbrowser\n",
    "from threading import Timer\n",
    "import dash_bootstrap_components as dbc\n",
    "import plotly.io as pio\n",
    "from dash.dependencies import Input, Output\n",
    "import json\n"
   ]
  },
  {
   "cell_type": "code",
   "execution_count": null,
   "metadata": {},
   "outputs": [],
   "source": [
    "# Read price data from Excel\n",
    "price_data = pd.read_excel('data/price_data_frq.xlsx', sheet_name= None, index_col=0)\n",
    "schedule_data = pd.read_excel('data/schedule_data.xlsx', index_col=0)\n",
    "\n",
    "# Parameters\n",
    "Seff = 1\n",
    "Ceff = 1\n",
    "Deff = 1\n",
    "cap_power = 1  # Example value\n",
    "cap_energy = 4  # Example value\n",
    "η = 1000\n",
    "dt = 1\n",
    "\n",
    "λ_0 = 0.5\n",
    "λ_min = 0.0\n",
    "initial_soc = λ_0 * cap_energy\n"
   ]
  },
  {
   "cell_type": "code",
   "execution_count": null,
   "metadata": {},
   "outputs": [],
   "source": [
    "data = price_data\n",
    "\n",
    "# Iteratively merge all dataframes on 'Timestamp'\n",
    "price_df = pd.DataFrame(index =  data[list(data.keys())[0]].index)\n",
    "\n",
    "for key in data:\n",
    "    price_df = pd.concat([price_df, data[key]], axis = 1)\n"
   ]
  },
  {
   "cell_type": "markdown",
   "metadata": {},
   "source": [
    "# Model"
   ]
  },
  {
   "cell_type": "code",
   "execution_count": null,
   "metadata": {},
   "outputs": [],
   "source": [
    "s"
   ]
  },
  {
   "cell_type": "markdown",
   "metadata": {},
   "source": [
    "# Run"
   ]
  },
  {
   "cell_type": "code",
   "execution_count": null,
   "metadata": {},
   "outputs": [],
   "source": [
    "time_period = 24    # periods\n",
    "\n",
    "total_time_period = len(price_df)\n",
    "\n",
    "num_slices = total_time_period // time_period\n",
    "\n",
    "# Lists to store results\n",
    "total_revenue = 0\n",
    "arbitrage = 0\n",
    "regulation = 0\n",
    "\n",
    "all_charging_schedules = []\n",
    "all_discharging_schedules = []\n",
    "all_soc_schedules = []\n",
    "\n",
    "first_p = 0\n",
    "last_p = num_slices - 1\n",
    "\n",
    "# Run the optimization for each time period\n",
    "for p in range(num_slices):\n",
    "    print(\"watch\", p)\n",
    "    periodic_price = price_df[p*time_period:(p+1)*time_period]\n",
    "    revenue, charging_schedule, discharging_schedule, soc_schedule, [rev_arbitrage, rev_regulation] = optimize_revenue(initial_soc, periodic_price, p, first_p, last_p)\n",
    "    final_soc = soc_schedule[-1]\n",
    "    \n",
    "    # Store the results\n",
    "    total_revenue += revenue\n",
    "    arbitrage += rev_arbitrage\n",
    "    regulation += rev_regulation\n",
    "\n",
    "    all_charging_schedules.extend(charging_schedule)\n",
    "    all_discharging_schedules.extend(discharging_schedule)\n",
    "    all_soc_schedules.extend(soc_schedule[:-1])\n",
    "\n",
    "    # Update the initial SOC for the next day\n",
    "    initial_soc = final_soc\n",
    "\n",
    "print(total_revenue)"
   ]
  },
  {
   "cell_type": "code",
   "execution_count": null,
   "metadata": {},
   "outputs": [],
   "source": [
    "arbitrage"
   ]
  },
  {
   "cell_type": "code",
   "execution_count": null,
   "metadata": {},
   "outputs": [],
   "source": [
    "regulation/arbitrage"
   ]
  },
  {
   "cell_type": "code",
   "execution_count": null,
   "metadata": {},
   "outputs": [],
   "source": [
    "27168/185"
   ]
  },
  {
   "cell_type": "code",
   "execution_count": null,
   "metadata": {},
   "outputs": [],
   "source": [
    "# Create a DataFrame for the results\n",
    "data = {\n",
    "    't': range(1, len(all_charging_schedules) + 1),\n",
    "    'charge': all_charging_schedules,\n",
    "    'discharge': all_discharging_schedules,\n",
    "    'soc': all_soc_schedules\n",
    "}\n",
    "\n",
    "result_df = pd.DataFrame(data)\n",
    "\n",
    "result_df = result_df.set_index(['t'])\n",
    "\n",
    "result_df['net_discharge'] = result_df['discharge'] - result_df['charge']\n",
    "result_df['soc_percent'] = result_df['soc'] /cap_energy\n",
    "\n",
    "result_df"
   ]
  },
  {
   "cell_type": "code",
   "execution_count": null,
   "metadata": {},
   "outputs": [],
   "source": [
    "# Create interactive plot for charging and discharging\n",
    "fig_charge_discharge = go.Figure()\n",
    "fig_charge_discharge.add_trace(go.Scatter(x=result_df.index, y=result_df['net_discharge'], mode='lines', name='net'))\n",
    "fig_charge_discharge.update_layout(\n",
    "    title='Charging and Discharging Schedule',\n",
    "    xaxis_title='Time',\n",
    "    yaxis_title='Power (MW)',\n",
    "    # xaxis=dict(\n",
    "    #     tickmode='linear',\n",
    "    #     dtick=86400000.0 * 30,  # 86400000.0 milliseconds in a day * 30 days\n",
    "    # ),\n",
    "    legend=dict(x=1.05, y=1),  # Position the legend outside the plot\n",
    "    autosize=True,\n",
    "    margin=dict(l=40, r=40, t=40, b=40),\n",
    ")\n",
    "fig_charge_discharge.show()\n",
    "\n",
    "# Create interactive plot for charging and discharging\n",
    "fig_soc = go.Figure()\n",
    "fig_soc.add_trace(go.Scatter(x=result_df.index, y=result_df['soc_percent']*100, mode='lines', name='net', line=dict(color='orange')))\n",
    "fig_soc.update_layout(\n",
    "    title='State of Charge',\n",
    "    xaxis_title='Time',\n",
    "    yaxis_title='SOC (%)',\n",
    "    # xaxis=dict(\n",
    "    #     tickmode='linear',\n",
    "    #     dtick=86400000.0 * 30,  # 86400000.0 milliseconds in a day * 30 days\n",
    "    # ),\n",
    "    legend=dict(x=1.05, y=1),  # Position the legend outside the plot\n",
    "    autosize=True,\n",
    "    margin=dict(l=40, r=40, t=40, b=40),\n",
    ")\n",
    "fig_soc.show()"
   ]
  },
  {
   "cell_type": "code",
   "execution_count": null,
   "metadata": {},
   "outputs": [],
   "source": [
    "# Create the combined layout\n",
    "combined_html = f\"\"\"\n",
    "<html>\n",
    "    <head>\n",
    "        <title>BESS Revenue Simulation Dashboard</title>\n",
    "        <style>\n",
    "            .responsive-plot {{\n",
    "                width: 80%;\n",
    "                max-width: 3600px;\n",
    "                height: 80%;\n",
    "                max-height: 600px;\n",
    "                margin: auto;\n",
    "            }}\n",
    "        </style>\n",
    "        <script src=\"https://cdn.plot.ly/plotly-latest.min.js\"></script>\n",
    "\n",
    "    </head>\n",
    "    <body>\n",
    "        <h1>BESS Revenue Simulation Dashboard</h1>\n",
    "        <div>\n",
    "            <h3>Charging and Discharging Schedules</h3>\n",
    "            <div id=\"plot1\" class=\"responsive-plot\">\n",
    "                {pio.to_html(fig_charge_discharge, include_plotlyjs=False, full_html=False)}\n",
    "            </div>\n",
    "        </div>\n",
    "        <div>\n",
    "            <h3>State of Charge Over Time</h3>\n",
    "            <div id=\"plot2\" class=\"responsive-plot\">\n",
    "                {pio.to_html(fig_soc, include_plotlyjs=False, full_html=False)}\n",
    "            </div>\n",
    "        </div>\n",
    "    </body>\n",
    "</html>\n",
    "\"\"\"\n",
    "\n",
    "# Save the combined HTML to a file\n",
    "with open(\"bess_dashboard.html\", \"w\") as f:\n",
    "    f.write(combined_html)"
   ]
  }
 ],
 "metadata": {
  "kernelspec": {
   "display_name": "Python 3",
   "language": "python",
   "name": "python3"
  },
  "language_info": {
   "codemirror_mode": {
    "name": "ipython",
    "version": 3
   },
   "file_extension": ".py",
   "mimetype": "text/x-python",
   "name": "python",
   "nbconvert_exporter": "python",
   "pygments_lexer": "ipython3",
   "version": "3.11.4"
  }
 },
 "nbformat": 4,
 "nbformat_minor": 2
}
